{
 "cells": [
  {
   "cell_type": "markdown",
   "id": "61d65e11",
   "metadata": {},
   "source": [
    "# PySpark Joins-\n",
    "        By Aishwarya Raut\n",
    "\n",
    "\n",
    "PySpark Join is used to combine two DF and by chaining these you can join multiple DF. "
   ]
  },
  {
   "cell_type": "code",
   "execution_count": 1,
   "id": "4d6867e6",
   "metadata": {
    "ExecuteTime": {
     "end_time": "2023-11-30T13:01:07.789679Z",
     "start_time": "2023-11-30T13:00:25.593674Z"
    }
   },
   "outputs": [],
   "source": [
    "import pyspark\n",
    "from pyspark.sql import SparkSession\n",
    "\n",
    "spark= SparkSession.builder.appName(\"PySpark\").getOrCreate()\n",
    "\n",
    "file_path_1=\"C:/Users/pcc/Desktop/HR_1.csv\"\n",
    "file_path_2=\"C:/Users/pcc/Desktop/HR_2.csv\"\n",
    "\n",
    "df1= spark.read.csv(file_path_1 ,header=True, inferSchema=True)\n",
    "df2= spark.read.csv(file_path_2 ,header=True, inferSchema=True)"
   ]
  },
  {
   "cell_type": "code",
   "execution_count": 2,
   "id": "a31a2c73",
   "metadata": {
    "ExecuteTime": {
     "end_time": "2023-11-30T13:01:09.383034Z",
     "start_time": "2023-11-30T13:01:07.798682Z"
    }
   },
   "outputs": [
    {
     "name": "stdout",
     "output_type": "stream",
     "text": [
      "+---+---------+--------------+---------+---------------+----------------+---------+----------------+-------------+--------------+-----------------------+------+----------+--------------+--------+--------------------+---------------+-------------+\n",
      "|Age|Attrition|BusinessTravel|DailyRate|     Department|DistanceFromHome|Education|  EducationField|EmployeeCount|EmployeeNumber|EnvironmentSatisfaction|Gender|HourlyRate|JobInvolvement|JobLevel|             JobRole|JobSatisfaction|MaritalStatus|\n",
      "+---+---------+--------------+---------+---------------+----------------+---------+----------------+-------------+--------------+-----------------------+------+----------+--------------+--------+--------------------+---------------+-------------+\n",
      "| 31|       No|    Non-Travel|      158|       Software|               7|        3|         Medical|            1|             1|                      3|  Male|        42|             2|       3|           Developer|              1|      Married|\n",
      "| 38|       No| Travel_Rarely|      985|Human Resources|              33|        5|   Life Sciences|            1|             2|                      1|Female|        66|             2|       4|Healthcare Repres...|              3|       Single|\n",
      "| 59|      Yes|    Non-Travel|     1273|          Sales|               5|        2|Technical Degree|            1|             3|                      4|Female|        96|             1|       3|Manufacturing Dir...|              2|      Married|\n",
      "| 52|      Yes| Travel_Rarely|      480|        Support|               2|        5|       Marketing|            1|             4|                      4|Female|        71|             2|       4|     Human Resources|              1|      Married|\n",
      "| 32|       No|    Non-Travel|      543|Human Resources|               7|        5| Human Resources|            1|             5|                      2|  Male|       122|             3|       3|             Manager|              2|     Divorced|\n",
      "+---+---------+--------------+---------+---------------+----------------+---------+----------------+-------------+--------------+-----------------------+------+----------+--------------+--------+--------------------+---------------+-------------+\n",
      "only showing top 5 rows\n",
      "\n",
      "+-----------+-------------+-----------+------------------+------+--------+-----------------+-----------------+------------------------+-------------+----------------+-----------------+---------------------+---------------+--------------+------------------+-----------------------+--------------------+\n",
      "|Employee ID|MonthlyIncome|MonthlyRate|NumCompaniesWorked|Over18|OverTime|PercentSalaryHike|PerformanceRating|RelationshipSatisfaction|StandardHours|StockOptionLevel|TotalWorkingYears|TrainingTimesLastYear|WorkLifeBalance|YearsAtCompany|YearsInCurrentRole|YearsSinceLastPromotion|YearsWithCurrManager|\n",
      "+-----------+-------------+-----------+------------------+------+--------+-----------------+-----------------+------------------------+-------------+----------------+-----------------+---------------------+---------------+--------------+------------------+-----------------------+--------------------+\n",
      "|          6|        41552|    1246560|                 3|     Y|     Yes|               15|                4|                       3|           80|               1|               33|                    4|              2|            16|                 4|                     14|                   3|\n",
      "|          7|         5303|     148484|                 3|     Y|      No|               45|                4|                       1|           80|               1|                4|                    3|              4|             2|                 1|                      1|                   2|\n",
      "|          8|        28555|     571100|                 2|     Y|     Yes|               35|                3|                       2|           80|               1|                2|                    2|              2|             2|                 2|                      2|                   2|\n",
      "|         11|        10587|      95283|                 0|     Y|     Yes|               47|                4|                       2|           80|               1|               38|                    3|              4|            24|                19|                      8|                   6|\n",
      "|         13|        34153|     648907|                 7|     Y|      No|               17|                1|                       3|           80|               1|               30|                    2|              2|            15|                 3|                      8|                   4|\n",
      "+-----------+-------------+-----------+------------------+------+--------+-----------------+-----------------+------------------------+-------------+----------------+-----------------+---------------------+---------------+--------------+------------------+-----------------------+--------------------+\n",
      "only showing top 5 rows\n",
      "\n"
     ]
    }
   ],
   "source": [
    "df1.show(5)\n",
    "df2.show(5)"
   ]
  },
  {
   "cell_type": "code",
   "execution_count": 3,
   "id": "e8f662a1",
   "metadata": {
    "ExecuteTime": {
     "end_time": "2023-11-30T13:01:09.418014Z",
     "start_time": "2023-11-30T13:01:09.393029Z"
    }
   },
   "outputs": [
    {
     "name": "stdout",
     "output_type": "stream",
     "text": [
      "root\n",
      " |-- Age: integer (nullable = true)\n",
      " |-- Attrition: string (nullable = true)\n",
      " |-- BusinessTravel: string (nullable = true)\n",
      " |-- DailyRate: integer (nullable = true)\n",
      " |-- Department: string (nullable = true)\n",
      " |-- DistanceFromHome: integer (nullable = true)\n",
      " |-- Education: integer (nullable = true)\n",
      " |-- EducationField: string (nullable = true)\n",
      " |-- EmployeeCount: integer (nullable = true)\n",
      " |-- EmployeeNumber: integer (nullable = true)\n",
      " |-- EnvironmentSatisfaction: integer (nullable = true)\n",
      " |-- Gender: string (nullable = true)\n",
      " |-- HourlyRate: integer (nullable = true)\n",
      " |-- JobInvolvement: integer (nullable = true)\n",
      " |-- JobLevel: integer (nullable = true)\n",
      " |-- JobRole: string (nullable = true)\n",
      " |-- JobSatisfaction: integer (nullable = true)\n",
      " |-- MaritalStatus: string (nullable = true)\n",
      "\n",
      "root\n",
      " |-- Employee ID: integer (nullable = true)\n",
      " |-- MonthlyIncome: integer (nullable = true)\n",
      " |-- MonthlyRate: integer (nullable = true)\n",
      " |-- NumCompaniesWorked: integer (nullable = true)\n",
      " |-- Over18: string (nullable = true)\n",
      " |-- OverTime: string (nullable = true)\n",
      " |-- PercentSalaryHike: integer (nullable = true)\n",
      " |-- PerformanceRating: integer (nullable = true)\n",
      " |-- RelationshipSatisfaction: integer (nullable = true)\n",
      " |-- StandardHours: integer (nullable = true)\n",
      " |-- StockOptionLevel: integer (nullable = true)\n",
      " |-- TotalWorkingYears: integer (nullable = true)\n",
      " |-- TrainingTimesLastYear: integer (nullable = true)\n",
      " |-- WorkLifeBalance: integer (nullable = true)\n",
      " |-- YearsAtCompany: integer (nullable = true)\n",
      " |-- YearsInCurrentRole: integer (nullable = true)\n",
      " |-- YearsSinceLastPromotion: integer (nullable = true)\n",
      " |-- YearsWithCurrManager: integer (nullable = true)\n",
      "\n"
     ]
    }
   ],
   "source": [
    "df1.printSchema()\n",
    "df2.printSchema()"
   ]
  },
  {
   "cell_type": "code",
   "execution_count": 4,
   "id": "e40d4fc9",
   "metadata": {
    "ExecuteTime": {
     "end_time": "2023-11-30T13:01:09.680928Z",
     "start_time": "2023-11-30T13:01:09.433004Z"
    }
   },
   "outputs": [],
   "source": [
    "df1=df1.select([\"EmployeeNumber\",\"Age\",\"EducationField\",\"Gender\"])\n",
    "df2=df2.select([\"Employee ID\",\"MonthlyIncome\",\"MonthlyRate\",\"PerformanceRating\"])"
   ]
  },
  {
   "cell_type": "code",
   "execution_count": 5,
   "id": "4482dedf",
   "metadata": {
    "ExecuteTime": {
     "end_time": "2023-11-30T13:01:09.773129Z",
     "start_time": "2023-11-30T13:01:09.759137Z"
    }
   },
   "outputs": [
    {
     "name": "stdout",
     "output_type": "stream",
     "text": [
      "root\n",
      " |-- EmployeeNumber: integer (nullable = true)\n",
      " |-- Age: integer (nullable = true)\n",
      " |-- EducationField: string (nullable = true)\n",
      " |-- Gender: string (nullable = true)\n",
      "\n",
      "root\n",
      " |-- Employee ID: integer (nullable = true)\n",
      " |-- MonthlyIncome: integer (nullable = true)\n",
      " |-- MonthlyRate: integer (nullable = true)\n",
      " |-- PerformanceRating: integer (nullable = true)\n",
      "\n"
     ]
    }
   ],
   "source": [
    "df1.printSchema()\n",
    "df2.printSchema()"
   ]
  },
  {
   "cell_type": "markdown",
   "id": "8e3739f2",
   "metadata": {},
   "source": [
    "# 1. PySpark Join Syntax\n",
    "\n",
    "join(self, other, on=None, how=None)"
   ]
  },
  {
   "cell_type": "markdown",
   "id": "411cde8e",
   "metadata": {},
   "source": [
    "# 2. PySpark Inner Join DF"
   ]
  },
  {
   "cell_type": "code",
   "execution_count": 6,
   "id": "fd9dbb7c",
   "metadata": {
    "ExecuteTime": {
     "end_time": "2023-11-30T13:01:12.037989Z",
     "start_time": "2023-11-30T13:01:09.784123Z"
    }
   },
   "outputs": [
    {
     "name": "stdout",
     "output_type": "stream",
     "text": [
      "+--------------+---+----------------+------+-----------+-------------+-----------+-----------------+\n",
      "|EmployeeNumber|Age|  EducationField|Gender|Employee ID|MonthlyIncome|MonthlyRate|PerformanceRating|\n",
      "+--------------+---+----------------+------+-----------+-------------+-----------+-----------------+\n",
      "|             1| 31|         Medical|  Male|          1|        42682|     298774|                4|\n",
      "|             2| 38|   Life Sciences|Female|          2|        45252|      45252|                1|\n",
      "|             3| 59|Technical Degree|Female|          3|        46149|     507639|                3|\n",
      "|             4| 52|       Marketing|Female|          4|        27150|      27150|                3|\n",
      "|             5| 32| Human Resources|  Male|          5|        15894|      47682|                3|\n",
      "+--------------+---+----------------+------+-----------+-------------+-----------+-----------------+\n",
      "only showing top 5 rows\n",
      "\n"
     ]
    }
   ],
   "source": [
    "# Inner Join\n",
    "df1.join(df2,df1.EmployeeNumber==df2[\"Employee ID\"],\"inner\").show(5)"
   ]
  },
  {
   "cell_type": "markdown",
   "id": "9a74817c",
   "metadata": {},
   "source": [
    "# 3. PySpark Full Outer Join"
   ]
  },
  {
   "cell_type": "code",
   "execution_count": 7,
   "id": "429c6b5a",
   "metadata": {
    "ExecuteTime": {
     "end_time": "2023-11-30T13:01:21.888818Z",
     "start_time": "2023-11-30T13:01:12.050983Z"
    }
   },
   "outputs": [
    {
     "name": "stdout",
     "output_type": "stream",
     "text": [
      "+--------------+---+----------------+------+-----------+-------------+-----------+-----------------+\n",
      "|EmployeeNumber|Age|  EducationField|Gender|Employee ID|MonthlyIncome|MonthlyRate|PerformanceRating|\n",
      "+--------------+---+----------------+------+-----------+-------------+-----------+-----------------+\n",
      "|             1| 31|         Medical|  Male|          1|        42682|     298774|                4|\n",
      "|             3| 59|Technical Degree|Female|          3|        46149|     507639|                3|\n",
      "|             5| 32| Human Resources|  Male|          5|        15894|      47682|                3|\n",
      "|             6| 19|         Medical|Female|          6|        41552|    1246560|                4|\n",
      "|             9| 41|   Life Sciences|  Male|          9|         3241|      87507|                1|\n",
      "+--------------+---+----------------+------+-----------+-------------+-----------+-----------------+\n",
      "only showing top 5 rows\n",
      "\n",
      "+--------------+---+----------------+------+-----------+-------------+-----------+-----------------+\n",
      "|EmployeeNumber|Age|  EducationField|Gender|Employee ID|MonthlyIncome|MonthlyRate|PerformanceRating|\n",
      "+--------------+---+----------------+------+-----------+-------------+-----------+-----------------+\n",
      "|             1| 31|         Medical|  Male|          1|        42682|     298774|                4|\n",
      "|             3| 59|Technical Degree|Female|          3|        46149|     507639|                3|\n",
      "|             5| 32| Human Resources|  Male|          5|        15894|      47682|                3|\n",
      "|             6| 19|         Medical|Female|          6|        41552|    1246560|                4|\n",
      "|             9| 41|   Life Sciences|  Male|          9|         3241|      87507|                1|\n",
      "+--------------+---+----------------+------+-----------+-------------+-----------+-----------------+\n",
      "only showing top 5 rows\n",
      "\n",
      "+--------------+---+----------------+------+-----------+-------------+-----------+-----------------+\n",
      "|EmployeeNumber|Age|  EducationField|Gender|Employee ID|MonthlyIncome|MonthlyRate|PerformanceRating|\n",
      "+--------------+---+----------------+------+-----------+-------------+-----------+-----------------+\n",
      "|             1| 31|         Medical|  Male|          1|        42682|     298774|                4|\n",
      "|             3| 59|Technical Degree|Female|          3|        46149|     507639|                3|\n",
      "|             5| 32| Human Resources|  Male|          5|        15894|      47682|                3|\n",
      "|             6| 19|         Medical|Female|          6|        41552|    1246560|                4|\n",
      "|             9| 41|   Life Sciences|  Male|          9|         3241|      87507|                1|\n",
      "+--------------+---+----------------+------+-----------+-------------+-----------+-----------------+\n",
      "only showing top 5 rows\n",
      "\n"
     ]
    }
   ],
   "source": [
    "df1.join(df2,df1.EmployeeNumber==df2[\"Employee ID\"],\"outer\").show(5)\n",
    "df1.join(df2,df1.EmployeeNumber==df2[\"Employee ID\"],\"full\").show(5)\n",
    "df1.join(df2,df1.EmployeeNumber==df2[\"Employee ID\"],\"fullouter\").show(5)"
   ]
  },
  {
   "cell_type": "markdown",
   "id": "a3a5e2d3",
   "metadata": {
    "ExecuteTime": {
     "end_time": "2023-11-30T12:32:57.390011Z",
     "start_time": "2023-11-30T12:32:57.383019Z"
    }
   },
   "source": [
    "# 4. PySpark Left Outer Join"
   ]
  },
  {
   "cell_type": "code",
   "execution_count": 8,
   "id": "f03a0a8f",
   "metadata": {
    "ExecuteTime": {
     "end_time": "2023-11-30T13:01:24.092775Z",
     "start_time": "2023-11-30T13:01:21.898813Z"
    }
   },
   "outputs": [
    {
     "name": "stdout",
     "output_type": "stream",
     "text": [
      "+--------------+---+----------------+------+-----------+-------------+-----------+-----------------+\n",
      "|EmployeeNumber|Age|  EducationField|Gender|Employee ID|MonthlyIncome|MonthlyRate|PerformanceRating|\n",
      "+--------------+---+----------------+------+-----------+-------------+-----------+-----------------+\n",
      "|             1| 31|         Medical|  Male|          1|        42682|     298774|                4|\n",
      "|             2| 38|   Life Sciences|Female|          2|        45252|      45252|                1|\n",
      "|             3| 59|Technical Degree|Female|          3|        46149|     507639|                3|\n",
      "|             4| 52|       Marketing|Female|          4|        27150|      27150|                3|\n",
      "|             5| 32| Human Resources|  Male|          5|        15894|      47682|                3|\n",
      "+--------------+---+----------------+------+-----------+-------------+-----------+-----------------+\n",
      "only showing top 5 rows\n",
      "\n",
      "+--------------+---+----------------+------+-----------+-------------+-----------+-----------------+\n",
      "|EmployeeNumber|Age|  EducationField|Gender|Employee ID|MonthlyIncome|MonthlyRate|PerformanceRating|\n",
      "+--------------+---+----------------+------+-----------+-------------+-----------+-----------------+\n",
      "|             1| 31|         Medical|  Male|          1|        42682|     298774|                4|\n",
      "|             2| 38|   Life Sciences|Female|          2|        45252|      45252|                1|\n",
      "|             3| 59|Technical Degree|Female|          3|        46149|     507639|                3|\n",
      "|             4| 52|       Marketing|Female|          4|        27150|      27150|                3|\n",
      "|             5| 32| Human Resources|  Male|          5|        15894|      47682|                3|\n",
      "+--------------+---+----------------+------+-----------+-------------+-----------+-----------------+\n",
      "only showing top 5 rows\n",
      "\n"
     ]
    }
   ],
   "source": [
    "df1.join(df2,df1.EmployeeNumber==df2[\"Employee ID\"],\"left\").show(5)\n",
    "df1.join(df2,df1.EmployeeNumber==df2[\"Employee ID\"],\"leftouter\").show(5)\n"
   ]
  },
  {
   "cell_type": "markdown",
   "id": "7b0a9579",
   "metadata": {},
   "source": [
    "# 5. Right Outer Join"
   ]
  },
  {
   "cell_type": "code",
   "execution_count": 9,
   "id": "7c0d81eb",
   "metadata": {
    "ExecuteTime": {
     "end_time": "2023-11-30T13:01:26.025291Z",
     "start_time": "2023-11-30T13:01:24.110762Z"
    }
   },
   "outputs": [
    {
     "name": "stdout",
     "output_type": "stream",
     "text": [
      "+--------------+---+---------------+------+-----------+-------------+-----------+-----------------+\n",
      "|EmployeeNumber|Age| EducationField|Gender|Employee ID|MonthlyIncome|MonthlyRate|PerformanceRating|\n",
      "+--------------+---+---------------+------+-----------+-------------+-----------+-----------------+\n",
      "|             6| 19|        Medical|Female|          6|        41552|    1246560|                4|\n",
      "|             7| 42|Human Resources|Female|          7|         5303|     148484|                4|\n",
      "|             8| 30|      Marketing|  Male|          8|        28555|     571100|                3|\n",
      "|            11| 36|          Other|  Male|         11|        10587|      95283|                4|\n",
      "|            13| 24|      Marketing|Female|         13|        34153|     648907|                1|\n",
      "+--------------+---+---------------+------+-----------+-------------+-----------+-----------------+\n",
      "only showing top 5 rows\n",
      "\n",
      "+--------------+---+---------------+------+-----------+-------------+-----------+-----------------+\n",
      "|EmployeeNumber|Age| EducationField|Gender|Employee ID|MonthlyIncome|MonthlyRate|PerformanceRating|\n",
      "+--------------+---+---------------+------+-----------+-------------+-----------+-----------------+\n",
      "|             6| 19|        Medical|Female|          6|        41552|    1246560|                4|\n",
      "|             7| 42|Human Resources|Female|          7|         5303|     148484|                4|\n",
      "|             8| 30|      Marketing|  Male|          8|        28555|     571100|                3|\n",
      "|            11| 36|          Other|  Male|         11|        10587|      95283|                4|\n",
      "|            13| 24|      Marketing|Female|         13|        34153|     648907|                1|\n",
      "+--------------+---+---------------+------+-----------+-------------+-----------+-----------------+\n",
      "only showing top 5 rows\n",
      "\n"
     ]
    }
   ],
   "source": [
    "df1.join(df2,df1.EmployeeNumber==df2[\"Employee ID\"],\"right\").show(5)\n",
    "df1.join(df2,df1.EmployeeNumber==df2[\"Employee ID\"],\"rightouter\").show(5)\n"
   ]
  },
  {
   "cell_type": "markdown",
   "id": "36d1e9c6",
   "metadata": {},
   "source": [
    "# 6. Left Semi join \n",
    "\n",
    "leftsemi join is similar to inner join differece being leftsemi join returns all columns from left dataset and ignor all columns from right dataset. In other words, this join returns columns from only left dataset for records match in the right dataset on join expression, records not matched on join expression are ignored from both left and right datasets."
   ]
  },
  {
   "cell_type": "code",
   "execution_count": 10,
   "id": "9a58edb0",
   "metadata": {
    "ExecuteTime": {
     "end_time": "2023-11-30T13:01:26.843587Z",
     "start_time": "2023-11-30T13:01:26.035283Z"
    }
   },
   "outputs": [
    {
     "name": "stdout",
     "output_type": "stream",
     "text": [
      "+--------------+---+----------------+------+\n",
      "|EmployeeNumber|Age|  EducationField|Gender|\n",
      "+--------------+---+----------------+------+\n",
      "|             1| 31|         Medical|  Male|\n",
      "|             2| 38|   Life Sciences|Female|\n",
      "|             3| 59|Technical Degree|Female|\n",
      "|             4| 52|       Marketing|Female|\n",
      "|             5| 32| Human Resources|  Male|\n",
      "+--------------+---+----------------+------+\n",
      "only showing top 5 rows\n",
      "\n"
     ]
    }
   ],
   "source": [
    "df1.join(df2,df1.EmployeeNumber==df2[\"Employee ID\"],\"leftsemi\").show(5)\n"
   ]
  },
  {
   "cell_type": "markdown",
   "id": "278bf2e2",
   "metadata": {},
   "source": [
    "# 7. Left Anti Join\n",
    "\n",
    "leftantijoin does the extact opposite of leftsemi, leftanti join returns only columns from the left dataset for non-matched records."
   ]
  },
  {
   "cell_type": "code",
   "execution_count": 11,
   "id": "7fff4929",
   "metadata": {
    "ExecuteTime": {
     "end_time": "2023-11-30T13:01:27.784923Z",
     "start_time": "2023-11-30T13:01:26.857577Z"
    }
   },
   "outputs": [
    {
     "name": "stdout",
     "output_type": "stream",
     "text": [
      "+--------------+---+--------------+------+\n",
      "|EmployeeNumber|Age|EducationField|Gender|\n",
      "+--------------+---+--------------+------+\n",
      "+--------------+---+--------------+------+\n",
      "\n"
     ]
    }
   ],
   "source": [
    "df1.join(df2,df1.EmployeeNumber==df2[\"Employee ID\"],\"leftanti\").show(5)\n"
   ]
  },
  {
   "cell_type": "markdown",
   "id": "15085c72",
   "metadata": {},
   "source": [
    "# 8. PySpark Self Join  "
   ]
  },
  {
   "cell_type": "code",
   "execution_count": 12,
   "id": "3f0f38cf",
   "metadata": {
    "ExecuteTime": {
     "end_time": "2023-11-30T13:01:28.558697Z",
     "start_time": "2023-11-30T13:01:27.797894Z"
    }
   },
   "outputs": [
    {
     "name": "stdout",
     "output_type": "stream",
     "text": [
      "+--------------+---+----------------+------+--------------+---+----------------+------+\n",
      "|EmployeeNumber|Age|  EducationField|Gender|EmployeeNumber|Age|  EducationField|Gender|\n",
      "+--------------+---+----------------+------+--------------+---+----------------+------+\n",
      "|             1| 31|         Medical|  Male|             1| 31|         Medical|  Male|\n",
      "|             2| 38|   Life Sciences|Female|             2| 38|   Life Sciences|Female|\n",
      "|             3| 59|Technical Degree|Female|             3| 59|Technical Degree|Female|\n",
      "|             4| 52|       Marketing|Female|             4| 52|       Marketing|Female|\n",
      "|             5| 32| Human Resources|  Male|             5| 32| Human Resources|  Male|\n",
      "|             6| 19|         Medical|Female|             6| 19|         Medical|Female|\n",
      "|             7| 42| Human Resources|Female|             7| 42| Human Resources|Female|\n",
      "|             8| 30|       Marketing|  Male|             8| 30|       Marketing|  Male|\n",
      "|             9| 41|   Life Sciences|  Male|             9| 41|   Life Sciences|  Male|\n",
      "|            10| 45|   Life Sciences|Female|            10| 45|   Life Sciences|Female|\n",
      "|            11| 36|           Other|  Male|            11| 36|           Other|  Male|\n",
      "|            12| 23|   Life Sciences|Female|            12| 23|   Life Sciences|Female|\n",
      "|            13| 24|       Marketing|Female|            13| 24|       Marketing|Female|\n",
      "|            14| 39| Human Resources|Female|            14| 39| Human Resources|Female|\n",
      "|            15| 42|   Life Sciences|  Male|            15| 42|   Life Sciences|  Male|\n",
      "|            16| 44| Human Resources|Female|            16| 44| Human Resources|Female|\n",
      "|            17| 50| Human Resources|  Male|            17| 50| Human Resources|  Male|\n",
      "|            18| 42|   Life Sciences|Female|            18| 42|   Life Sciences|Female|\n",
      "|            19| 49|Technical Degree|Female|            19| 49|Technical Degree|Female|\n",
      "|            20| 58|Technical Degree|Female|            20| 58|Technical Degree|Female|\n",
      "+--------------+---+----------------+------+--------------+---+----------------+------+\n",
      "only showing top 20 rows\n",
      "\n"
     ]
    }
   ],
   "source": [
    "from pyspark.sql.functions import col \n",
    "df1.alias(\"HR1\").join((df1.alias(\"HR2\")),\n",
    "    col(\"HR1.EmployeeNumber\")==col(\"HR2.EmployeeNumber\"),\"inner\").show()"
   ]
  },
  {
   "cell_type": "markdown",
   "id": "ee24fdbc",
   "metadata": {},
   "source": [
    "# 9. Using SQL Expression"
   ]
  },
  {
   "cell_type": "code",
   "execution_count": 13,
   "id": "3089fd91",
   "metadata": {
    "ExecuteTime": {
     "end_time": "2023-11-30T13:01:28.591677Z",
     "start_time": "2023-11-30T13:01:28.568691Z"
    }
   },
   "outputs": [],
   "source": [
    "df2 = df2.withColumnRenamed(\"Employee ID\",\"ID\")"
   ]
  },
  {
   "cell_type": "code",
   "execution_count": 14,
   "id": "8a532b9c",
   "metadata": {
    "ExecuteTime": {
     "end_time": "2023-11-30T13:01:28.745750Z",
     "start_time": "2023-11-30T13:01:28.602671Z"
    }
   },
   "outputs": [
    {
     "name": "stdout",
     "output_type": "stream",
     "text": [
      "root\n",
      " |-- ID: integer (nullable = true)\n",
      " |-- MonthlyIncome: integer (nullable = true)\n",
      " |-- MonthlyRate: integer (nullable = true)\n",
      " |-- PerformanceRating: integer (nullable = true)\n",
      "\n"
     ]
    }
   ],
   "source": [
    "df2.printSchema()"
   ]
  },
  {
   "cell_type": "code",
   "execution_count": 15,
   "id": "93c964a4",
   "metadata": {
    "ExecuteTime": {
     "end_time": "2023-11-30T13:01:28.936625Z",
     "start_time": "2023-11-30T13:01:28.764739Z"
    }
   },
   "outputs": [],
   "source": [
    "df1.createTempView(\"HR__1\")\n",
    "df2.createTempView(\"HR__2\")"
   ]
  },
  {
   "cell_type": "code",
   "execution_count": 16,
   "id": "611f8175",
   "metadata": {
    "ExecuteTime": {
     "end_time": "2023-11-30T13:01:29.191486Z",
     "start_time": "2023-11-30T13:01:28.945616Z"
    }
   },
   "outputs": [],
   "source": [
    "joinDF= spark.sql(\"select * from HR__1 join HR__2 on HR__1.EmployeeNumber == HR__2.ID\")"
   ]
  },
  {
   "cell_type": "code",
   "execution_count": 17,
   "id": "c6e52b6e",
   "metadata": {
    "ExecuteTime": {
     "end_time": "2023-11-30T13:01:49.128529Z",
     "start_time": "2023-11-30T13:01:48.167739Z"
    }
   },
   "outputs": [
    {
     "name": "stdout",
     "output_type": "stream",
     "text": [
      "+--------------+---+----------------+------+---+-------------+-----------+-----------------+\n",
      "|EmployeeNumber|Age|  EducationField|Gender| ID|MonthlyIncome|MonthlyRate|PerformanceRating|\n",
      "+--------------+---+----------------+------+---+-------------+-----------+-----------------+\n",
      "|             1| 31|         Medical|  Male|  1|        42682|     298774|                4|\n",
      "|             2| 38|   Life Sciences|Female|  2|        45252|      45252|                1|\n",
      "|             3| 59|Technical Degree|Female|  3|        46149|     507639|                3|\n",
      "|             4| 52|       Marketing|Female|  4|        27150|      27150|                3|\n",
      "|             5| 32| Human Resources|  Male|  5|        15894|      47682|                3|\n",
      "|             6| 19|         Medical|Female|  6|        41552|    1246560|                4|\n",
      "|             7| 42| Human Resources|Female|  7|         5303|     148484|                4|\n",
      "|             8| 30|       Marketing|  Male|  8|        28555|     571100|                3|\n",
      "|             9| 41|   Life Sciences|  Male|  9|         3241|      87507|                1|\n",
      "|            10| 45|   Life Sciences|Female| 10|         4323|     116721|                1|\n",
      "|            11| 36|           Other|  Male| 11|        10587|      95283|                4|\n",
      "|            12| 23|   Life Sciences|Female| 12|         7446|     141474|                1|\n",
      "|            13| 24|       Marketing|Female| 13|        34153|     648907|                1|\n",
      "|            14| 39| Human Resources|Female| 14|        47844|     382752|                1|\n",
      "|            15| 42|   Life Sciences|  Male| 15|        21432|      21432|                2|\n",
      "|            16| 44| Human Resources|Female| 16|        50393|    1058253|                2|\n",
      "|            17| 50| Human Resources|  Male| 17|        22090|      66270|                2|\n",
      "|            18| 42|   Life Sciences|Female| 18|        47968|      47968|                4|\n",
      "|            19| 49|Technical Degree|Female| 19|        24665|      98660|                2|\n",
      "|            20| 58|Technical Degree|Female| 20|        41084|     903848|                1|\n",
      "+--------------+---+----------------+------+---+-------------+-----------+-----------------+\n",
      "only showing top 20 rows\n",
      "\n"
     ]
    }
   ],
   "source": [
    "joinDF.show()"
   ]
  },
  {
   "cell_type": "markdown",
   "id": "2e4a2308",
   "metadata": {},
   "source": [
    "# 10. PySpark SQL join on multiple DF\n"
   ]
  },
  {
   "cell_type": "code",
   "execution_count": null,
   "id": "2d5b0c41",
   "metadata": {},
   "outputs": [],
   "source": [
    "df1.join(df2. df1.id1==df2.id2,\"inner\")\n",
    "    .join(df3,df1.id1==df3.id3,\"inner\")"
   ]
  }
 ],
 "metadata": {
  "hide_input": false,
  "kernelspec": {
   "display_name": "Python 3 (ipykernel)",
   "language": "python",
   "name": "python3"
  },
  "language_info": {
   "codemirror_mode": {
    "name": "ipython",
    "version": 3
   },
   "file_extension": ".py",
   "mimetype": "text/x-python",
   "name": "python",
   "nbconvert_exporter": "python",
   "pygments_lexer": "ipython3",
   "version": "3.9.7"
  }
 },
 "nbformat": 4,
 "nbformat_minor": 5
}

{
 "cells": [
  {
   "cell_type": "markdown",
   "id": "f1c60376",
   "metadata": {},
   "source": [
    "# 1. Create Column Class Object\n"
   ]
  },
  {
   "cell_type": "code",
   "execution_count": 1,
   "id": "f576cb6f",
   "metadata": {
    "ExecuteTime": {
     "end_time": "2023-11-28T11:31:06.181319Z",
     "start_time": "2023-11-28T11:30:38.913788Z"
    }
   },
   "outputs": [],
   "source": [
    "from pyspark.sql import SparkSession\n",
    "spark=SparkSession.builder.appName(\"SP\").getOrCreate()"
   ]
  },
  {
   "cell_type": "code",
   "execution_count": 5,
   "id": "fa5ae262",
   "metadata": {
    "ExecuteTime": {
     "end_time": "2023-11-27T15:55:53.816789Z",
     "start_time": "2023-11-27T15:55:53.507010Z"
    }
   },
   "outputs": [
    {
     "data": {
      "text/plain": [
       "Column<'SP.com'>"
      ]
     },
     "execution_count": 5,
     "metadata": {},
     "output_type": "execute_result"
    }
   ],
   "source": [
    "from pyspark.sql.functions import lit\n",
    "colObj=lit(\"SP.com\")\n",
    "colObj"
   ]
  },
  {
   "cell_type": "code",
   "execution_count": 6,
   "id": "fa56a5df",
   "metadata": {
    "ExecuteTime": {
     "end_time": "2023-11-27T15:57:07.823940Z",
     "start_time": "2023-11-27T15:56:12.949374Z"
    }
   },
   "outputs": [
    {
     "name": "stdout",
     "output_type": "stream",
     "text": [
      "root\n",
      " |-- name: string (nullable = true)\n",
      " |-- gender: long (nullable = true)\n",
      "\n"
     ]
    }
   ],
   "source": [
    "data=[(\"James\",23),(\"Ann\",40)]\n",
    "df=spark.createDataFrame(data).toDF(\"name\",\"gender\")\n",
    "df.printSchema()"
   ]
  },
  {
   "cell_type": "code",
   "execution_count": 9,
   "id": "4e0e3df9",
   "metadata": {
    "ExecuteTime": {
     "end_time": "2023-11-27T15:59:30.942611Z",
     "start_time": "2023-11-27T15:59:30.936636Z"
    }
   },
   "outputs": [],
   "source": [
    "#df.select(df[\"gender\"]).show()\n",
    "\n",
    "#Accessing column name with dot (with backticks)\n",
    "df.select(df[\"`name.fname`\"]).show()"
   ]
  },
  {
   "cell_type": "code",
   "execution_count": 11,
   "id": "25f48a05",
   "metadata": {
    "ExecuteTime": {
     "end_time": "2023-11-27T16:01:23.999765Z",
     "start_time": "2023-11-27T16:01:23.987772Z"
    }
   },
   "outputs": [],
   "source": [
    "# using SQL col() function\n",
    "from pyspark.sql.functions import col \n",
    "df.select(col(\"gender\")).show()\n",
    "\n",
    "#Accessing column name with dot (with backticks)\n",
    "df.select(col(\"`name.fname`\")).show()"
   ]
  },
  {
   "cell_type": "code",
   "execution_count": 12,
   "id": "bad2dff2",
   "metadata": {
    "ExecuteTime": {
     "end_time": "2023-11-27T16:05:50.826405Z",
     "start_time": "2023-11-27T16:05:50.266445Z"
    }
   },
   "outputs": [
    {
     "name": "stdout",
     "output_type": "stream",
     "text": [
      "root\n",
      " |-- name: string (nullable = true)\n",
      " |-- prop: struct (nullable = true)\n",
      " |    |-- hair: string (nullable = true)\n",
      " |    |-- eye: string (nullable = true)\n",
      "\n"
     ]
    }
   ],
   "source": [
    "# create DataFrame with struct using Row Class\n",
    "\n",
    "from pyspark.sql import Row\n",
    "data=[Row(name=\"James\",prop=Row(hair=\"black\",eye=\"blue\")),\n",
    "     Row(name=\"Ann\",prop=Row(hair=\"gray\",eye=\"black\"))]\n",
    "\n",
    "df=spark.createDataFrame(data)\n",
    "df.printSchema()"
   ]
  },
  {
   "cell_type": "code",
   "execution_count": 14,
   "id": "c2e48f57",
   "metadata": {
    "ExecuteTime": {
     "end_time": "2023-11-27T16:06:57.173754Z",
     "start_time": "2023-11-27T16:06:57.160762Z"
    }
   },
   "outputs": [],
   "source": [
    "# Access struct column\n",
    "df.select(df.prop.hair).show()\n",
    "df.select(df[\"prop.hair\"]).show()\n",
    "df.select(col(\"prop.hair\")).show()\n",
    "\n",
    "# Access all columns from struct\n",
    "df.select(col(\"prop.*\")).show()"
   ]
  },
  {
   "cell_type": "markdown",
   "id": "6cc23c71",
   "metadata": {},
   "source": [
    "# 2. Pyspark column Operators"
   ]
  },
  {
   "cell_type": "code",
   "execution_count": 2,
   "id": "d9650573",
   "metadata": {
    "ExecuteTime": {
     "end_time": "2023-11-28T11:31:32.707214Z",
     "start_time": "2023-11-28T11:31:11.866091Z"
    }
   },
   "outputs": [
    {
     "name": "stdout",
     "output_type": "stream",
     "text": [
      "root\n",
      " |-- col1: long (nullable = true)\n",
      " |-- col2: long (nullable = true)\n",
      " |-- col3: long (nullable = true)\n",
      "\n"
     ]
    }
   ],
   "source": [
    "data=[(100,2,1),(200,3,4),(300,4,4)]\n",
    "df=spark.createDataFrame(data).toDF(\"col1\",\"col2\",\"col3\")\n",
    "df.printSchema()"
   ]
  },
  {
   "cell_type": "code",
   "execution_count": 5,
   "id": "ade772d2",
   "metadata": {
    "ExecuteTime": {
     "end_time": "2023-11-28T11:38:47.180967Z",
     "start_time": "2023-11-28T11:38:30.806114Z"
    }
   },
   "outputs": [
    {
     "data": {
      "text/plain": [
       "DataFrame[Row: int, Day: string, Day.Of.Week: int, Date: string, Page.Loads: int, Unique.Visits: int, First.Time.Visits: int, Returning.Visits: int]"
      ]
     },
     "execution_count": 5,
     "metadata": {},
     "output_type": "execute_result"
    }
   ],
   "source": [
    "# read csv file\n",
    "file_path = \"C:\\\\Users\\\\pcc\\\\Desktop\\\\daily-website-visitors.csv\"\n",
    "df=spark.read.csv(file_path,header=True,inferSchema=True)\n",
    "df"
   ]
  },
  {
   "cell_type": "code",
   "execution_count": 7,
   "id": "de1f20f6",
   "metadata": {
    "ExecuteTime": {
     "end_time": "2023-11-28T11:39:31.227303Z",
     "start_time": "2023-11-28T11:39:31.186325Z"
    }
   },
   "outputs": [],
   "source": [
    "df=df.withColumnsRenamed({\"Day.Of.Week\":\"Day_Of_Week\",\"Page.Loads\":\"Page_Loads\",\n",
    "                          \"Unique.Visits\":\"Unique_Visits\",\"First.Time.Visits\":\"First_Time_Visits\",\n",
    "                          \"Returning.Visits\":\"Returning_Visits\"})"
   ]
  },
  {
   "cell_type": "code",
   "execution_count": 8,
   "id": "ebe7d604",
   "metadata": {
    "ExecuteTime": {
     "end_time": "2023-11-28T11:39:34.473682Z",
     "start_time": "2023-11-28T11:39:34.033237Z"
    }
   },
   "outputs": [
    {
     "name": "stdout",
     "output_type": "stream",
     "text": [
      "+---+---------+-----------+----------+----------+-------------+-----------------+----------------+\n",
      "|Row|      Day|Day_Of_Week|      Date|Page_Loads|Unique_Visits|First_Time_Visits|Returning_Visits|\n",
      "+---+---------+-----------+----------+----------+-------------+-----------------+----------------+\n",
      "|  1|   Sunday|          1| 9/14/2014|      2146|         1582|             1430|             152|\n",
      "|  2|   Monday|          2| 9/15/2014|      3621|         2528|             2297|             231|\n",
      "|  3|  Tuesday|          3| 9/16/2014|      3698|         2630|             2352|             278|\n",
      "|  4|Wednesday|          4| 9/17/2014|      3667|         2614|             2327|             287|\n",
      "|  5| Thursday|          5| 9/18/2014|      3316|         2366|             2130|             236|\n",
      "|  6|   Friday|          6| 9/19/2014|      2815|         1863|             1622|             241|\n",
      "|  7| Saturday|          7| 9/20/2014|      1658|         1118|              985|             133|\n",
      "|  8|   Sunday|          1| 9/21/2014|      2288|         1656|             1481|             175|\n",
      "|  9|   Monday|          2| 9/22/2014|      3638|         2586|             2312|             274|\n",
      "| 10|  Tuesday|          3| 9/23/2014|      4462|         3257|             2989|             268|\n",
      "| 11|Wednesday|          4| 9/24/2014|      4414|         3175|             2891|             284|\n",
      "| 12| Thursday|          5| 9/25/2014|      4315|         3029|             2743|             286|\n",
      "| 13|   Friday|          6| 9/26/2014|      3323|         2249|             2033|             216|\n",
      "| 14| Saturday|          7| 9/27/2014|      1656|         1180|             1040|             140|\n",
      "| 15|   Sunday|          1| 9/28/2014|      2465|         1806|             1613|             193|\n",
      "| 16|   Monday|          2| 9/29/2014|      4096|         2873|             2577|             296|\n",
      "| 17|  Tuesday|          3| 9/30/2014|      4474|         3032|             2720|             312|\n",
      "| 18|Wednesday|          4|10-01-2014|      4124|         2849|             2541|             308|\n",
      "| 19| Thursday|          5|10-02-2014|      3514|         2489|             2239|             250|\n",
      "| 20|   Friday|          6|10-03-2014|      3005|         2097|             1856|             241|\n",
      "+---+---------+-----------+----------+----------+-------------+-----------------+----------------+\n",
      "only showing top 20 rows\n",
      "\n"
     ]
    }
   ],
   "source": [
    "df.show()"
   ]
  },
  {
   "cell_type": "markdown",
   "id": "2f8b8426",
   "metadata": {},
   "source": [
    "# 3. PySpark column functions"
   ]
  },
  {
   "cell_type": "code",
   "execution_count": 9,
   "id": "5a2819bb",
   "metadata": {
    "ExecuteTime": {
     "end_time": "2023-11-28T11:42:08.211321Z",
     "start_time": "2023-11-28T11:42:07.590207Z"
    }
   },
   "outputs": [
    {
     "name": "stdout",
     "output_type": "stream",
     "text": [
      "+-------------------------------+\n",
      "|(Page_Loads + Returning_Visits)|\n",
      "+-------------------------------+\n",
      "|                           2298|\n",
      "|                           3852|\n",
      "|                           3976|\n",
      "|                           3954|\n",
      "|                           3552|\n",
      "|                           3056|\n",
      "|                           1791|\n",
      "|                           2463|\n",
      "|                           3912|\n",
      "|                           4730|\n",
      "|                           4698|\n",
      "|                           4601|\n",
      "|                           3539|\n",
      "|                           1796|\n",
      "|                           2658|\n",
      "|                           4392|\n",
      "|                           4786|\n",
      "|                           4432|\n",
      "|                           3764|\n",
      "|                           3246|\n",
      "+-------------------------------+\n",
      "only showing top 20 rows\n",
      "\n"
     ]
    }
   ],
   "source": [
    "df.select(df.Page_Loads+df.Returning_Visits).show()"
   ]
  },
  {
   "cell_type": "code",
   "execution_count": 10,
   "id": "2d635a57",
   "metadata": {
    "ExecuteTime": {
     "end_time": "2023-11-28T11:42:35.604704Z",
     "start_time": "2023-11-28T11:42:35.237232Z"
    }
   },
   "outputs": [
    {
     "name": "stdout",
     "output_type": "stream",
     "text": [
      "+-------------------------------+\n",
      "|(Page_Loads - Returning_Visits)|\n",
      "+-------------------------------+\n",
      "|                           1994|\n",
      "|                           3390|\n",
      "|                           3420|\n",
      "|                           3380|\n",
      "|                           3080|\n",
      "|                           2574|\n",
      "|                           1525|\n",
      "|                           2113|\n",
      "|                           3364|\n",
      "|                           4194|\n",
      "|                           4130|\n",
      "|                           4029|\n",
      "|                           3107|\n",
      "|                           1516|\n",
      "|                           2272|\n",
      "|                           3800|\n",
      "|                           4162|\n",
      "|                           3816|\n",
      "|                           3264|\n",
      "|                           2764|\n",
      "+-------------------------------+\n",
      "only showing top 20 rows\n",
      "\n"
     ]
    }
   ],
   "source": [
    "df.select(df.Page_Loads-df.Returning_Visits).show()"
   ]
  },
  {
   "cell_type": "code",
   "execution_count": 11,
   "id": "9923ff51",
   "metadata": {
    "ExecuteTime": {
     "end_time": "2023-11-28T11:42:53.521444Z",
     "start_time": "2023-11-28T11:42:53.148932Z"
    }
   },
   "outputs": [
    {
     "name": "stdout",
     "output_type": "stream",
     "text": [
      "+-------------------------------+\n",
      "|(Page_Loads * Returning_Visits)|\n",
      "+-------------------------------+\n",
      "|                         326192|\n",
      "|                         836451|\n",
      "|                        1028044|\n",
      "|                        1052429|\n",
      "|                         782576|\n",
      "|                         678415|\n",
      "|                         220514|\n",
      "|                         400400|\n",
      "|                         996812|\n",
      "|                        1195816|\n",
      "|                        1253576|\n",
      "|                        1234090|\n",
      "|                         717768|\n",
      "|                         231840|\n",
      "|                         475745|\n",
      "|                        1212416|\n",
      "|                        1395888|\n",
      "|                        1270192|\n",
      "|                         878500|\n",
      "|                         724205|\n",
      "+-------------------------------+\n",
      "only showing top 20 rows\n",
      "\n"
     ]
    }
   ],
   "source": [
    "df.select(df.Page_Loads*df.Returning_Visits).show()"
   ]
  },
  {
   "cell_type": "code",
   "execution_count": 12,
   "id": "d995e6d0",
   "metadata": {
    "ExecuteTime": {
     "end_time": "2023-11-28T11:43:03.822898Z",
     "start_time": "2023-11-28T11:43:03.373306Z"
    }
   },
   "outputs": [
    {
     "name": "stdout",
     "output_type": "stream",
     "text": [
      "+-------------------------------+\n",
      "|(Page_Loads / Returning_Visits)|\n",
      "+-------------------------------+\n",
      "|             14.118421052631579|\n",
      "|             15.675324675324676|\n",
      "|             13.302158273381295|\n",
      "|             12.777003484320558|\n",
      "|              14.05084745762712|\n",
      "|             11.680497925311203|\n",
      "|             12.466165413533835|\n",
      "|             13.074285714285715|\n",
      "|             13.277372262773723|\n",
      "|             16.649253731343283|\n",
      "|              15.54225352112676|\n",
      "|             15.087412587412587|\n",
      "|              15.38425925925926|\n",
      "|              11.82857142857143|\n",
      "|               12.7720207253886|\n",
      "|             13.837837837837839|\n",
      "|              14.33974358974359|\n",
      "|              13.38961038961039|\n",
      "|                         14.056|\n",
      "|             12.468879668049793|\n",
      "+-------------------------------+\n",
      "only showing top 20 rows\n",
      "\n"
     ]
    }
   ],
   "source": [
    "df.select(df.Page_Loads/df.Returning_Visits).show()"
   ]
  },
  {
   "cell_type": "code",
   "execution_count": 13,
   "id": "92e0323c",
   "metadata": {
    "ExecuteTime": {
     "end_time": "2023-11-28T11:43:31.846227Z",
     "start_time": "2023-11-28T11:43:31.513593Z"
    }
   },
   "outputs": [
    {
     "name": "stdout",
     "output_type": "stream",
     "text": [
      "+-------------------------------+\n",
      "|(Page_Loads % Returning_Visits)|\n",
      "+-------------------------------+\n",
      "|                             18|\n",
      "|                            156|\n",
      "|                             84|\n",
      "|                            223|\n",
      "|                             12|\n",
      "|                            164|\n",
      "|                             62|\n",
      "|                             13|\n",
      "|                             76|\n",
      "|                            174|\n",
      "|                            154|\n",
      "|                             25|\n",
      "|                             83|\n",
      "|                            116|\n",
      "|                            149|\n",
      "|                            248|\n",
      "|                            106|\n",
      "|                            120|\n",
      "|                             14|\n",
      "|                            113|\n",
      "+-------------------------------+\n",
      "only showing top 20 rows\n",
      "\n"
     ]
    }
   ],
   "source": [
    "df.select(df.Page_Loads % df.Returning_Visits).show()"
   ]
  },
  {
   "cell_type": "code",
   "execution_count": 14,
   "id": "1ff2cadc",
   "metadata": {
    "ExecuteTime": {
     "end_time": "2023-11-28T11:44:04.248083Z",
     "start_time": "2023-11-28T11:44:03.929401Z"
    }
   },
   "outputs": [
    {
     "name": "stdout",
     "output_type": "stream",
     "text": [
      "+----------------------------+\n",
      "|(Page_Loads > Unique_Visits)|\n",
      "+----------------------------+\n",
      "|                        true|\n",
      "|                        true|\n",
      "|                        true|\n",
      "|                        true|\n",
      "|                        true|\n",
      "|                        true|\n",
      "|                        true|\n",
      "|                        true|\n",
      "|                        true|\n",
      "|                        true|\n",
      "|                        true|\n",
      "|                        true|\n",
      "|                        true|\n",
      "|                        true|\n",
      "|                        true|\n",
      "|                        true|\n",
      "|                        true|\n",
      "|                        true|\n",
      "|                        true|\n",
      "|                        true|\n",
      "+----------------------------+\n",
      "only showing top 20 rows\n",
      "\n"
     ]
    }
   ],
   "source": [
    "df.select(df.Page_Loads>df.Unique_Visits).show()"
   ]
  },
  {
   "cell_type": "code",
   "execution_count": 15,
   "id": "6d054a81",
   "metadata": {
    "ExecuteTime": {
     "end_time": "2023-11-28T11:44:21.742533Z",
     "start_time": "2023-11-28T11:44:21.418266Z"
    }
   },
   "outputs": [
    {
     "name": "stdout",
     "output_type": "stream",
     "text": [
      "+----------------------------+\n",
      "|(Page_Loads < Unique_Visits)|\n",
      "+----------------------------+\n",
      "|                       false|\n",
      "|                       false|\n",
      "|                       false|\n",
      "|                       false|\n",
      "|                       false|\n",
      "|                       false|\n",
      "|                       false|\n",
      "|                       false|\n",
      "|                       false|\n",
      "|                       false|\n",
      "|                       false|\n",
      "|                       false|\n",
      "|                       false|\n",
      "|                       false|\n",
      "|                       false|\n",
      "|                       false|\n",
      "|                       false|\n",
      "|                       false|\n",
      "|                       false|\n",
      "|                       false|\n",
      "+----------------------------+\n",
      "only showing top 20 rows\n",
      "\n"
     ]
    }
   ],
   "source": [
    "df.select(df.Page_Loads<df.Unique_Visits).show()"
   ]
  },
  {
   "cell_type": "code",
   "execution_count": 16,
   "id": "6ddce7a3",
   "metadata": {
    "ExecuteTime": {
     "end_time": "2023-11-28T11:44:27.931752Z",
     "start_time": "2023-11-28T11:44:27.643496Z"
    }
   },
   "outputs": [
    {
     "name": "stdout",
     "output_type": "stream",
     "text": [
      "+----------------------------+\n",
      "|(Page_Loads = Unique_Visits)|\n",
      "+----------------------------+\n",
      "|                       false|\n",
      "|                       false|\n",
      "|                       false|\n",
      "|                       false|\n",
      "|                       false|\n",
      "|                       false|\n",
      "|                       false|\n",
      "|                       false|\n",
      "|                       false|\n",
      "|                       false|\n",
      "|                       false|\n",
      "|                       false|\n",
      "|                       false|\n",
      "|                       false|\n",
      "|                       false|\n",
      "|                       false|\n",
      "|                       false|\n",
      "|                       false|\n",
      "|                       false|\n",
      "|                       false|\n",
      "+----------------------------+\n",
      "only showing top 20 rows\n",
      "\n"
     ]
    }
   ],
   "source": [
    "df.select(df.Page_Loads==df.Unique_Visits).show()"
   ]
  },
  {
   "cell_type": "markdown",
   "id": "ce028d08",
   "metadata": {},
   "source": [
    "# 4. PySpark column functions"
   ]
  },
  {
   "cell_type": "code",
   "execution_count": 17,
   "id": "628c7ab9",
   "metadata": {
    "ExecuteTime": {
     "end_time": "2023-11-28T11:50:01.473378Z",
     "start_time": "2023-11-28T11:50:01.139057Z"
    }
   },
   "outputs": [
    {
     "name": "stdout",
     "output_type": "stream",
     "text": [
      "+-----------+----------+\n",
      "|day_of_week|      date|\n",
      "+-----------+----------+\n",
      "|          1| 9/14/2014|\n",
      "|          2| 9/15/2014|\n",
      "|          3| 9/16/2014|\n",
      "|          4| 9/17/2014|\n",
      "|          5| 9/18/2014|\n",
      "|          6| 9/19/2014|\n",
      "|          7| 9/20/2014|\n",
      "|          1| 9/21/2014|\n",
      "|          2| 9/22/2014|\n",
      "|          3| 9/23/2014|\n",
      "|          4| 9/24/2014|\n",
      "|          5| 9/25/2014|\n",
      "|          6| 9/26/2014|\n",
      "|          7| 9/27/2014|\n",
      "|          1| 9/28/2014|\n",
      "|          2| 9/29/2014|\n",
      "|          3| 9/30/2014|\n",
      "|          4|10-01-2014|\n",
      "|          5|10-02-2014|\n",
      "|          6|10-03-2014|\n",
      "+-----------+----------+\n",
      "only showing top 20 rows\n",
      "\n"
     ]
    }
   ],
   "source": [
    "# 4.1 alias()- set's name to column\n",
    "from pyspark.sql.functions import expr\n",
    "df.select(df.Day_Of_Week.alias(\"day_of_week\"),\n",
    "         df.Date.alias(\"date\")).show()"
   ]
  },
  {
   "cell_type": "code",
   "execution_count": 18,
   "id": "8d133334",
   "metadata": {
    "ExecuteTime": {
     "end_time": "2023-11-28T11:52:11.085029Z",
     "start_time": "2023-11-28T11:52:10.346654Z"
    }
   },
   "outputs": [
    {
     "name": "stdout",
     "output_type": "stream",
     "text": [
      "+-----------+\n",
      "|  Properday|\n",
      "+-----------+\n",
      "|   Sunday-1|\n",
      "|   Monday-2|\n",
      "|  Tuesday-3|\n",
      "|Wednesday-4|\n",
      "| Thursday-5|\n",
      "|   Friday-6|\n",
      "| Saturday-7|\n",
      "|   Sunday-1|\n",
      "|   Monday-2|\n",
      "|  Tuesday-3|\n",
      "|Wednesday-4|\n",
      "| Thursday-5|\n",
      "|   Friday-6|\n",
      "| Saturday-7|\n",
      "|   Sunday-1|\n",
      "|   Monday-2|\n",
      "|  Tuesday-3|\n",
      "|Wednesday-4|\n",
      "| Thursday-5|\n",
      "|   Friday-6|\n",
      "+-----------+\n",
      "only showing top 20 rows\n",
      "\n"
     ]
    }
   ],
   "source": [
    "df.select(expr(\"Day || '-' || Day_Of_Week\").alias(\"Properday\")).show()"
   ]
  },
  {
   "cell_type": "code",
   "execution_count": 19,
   "id": "9a18c91b",
   "metadata": {
    "ExecuteTime": {
     "end_time": "2023-11-28T11:54:05.442424Z",
     "start_time": "2023-11-28T11:54:03.642707Z"
    }
   },
   "outputs": [
    {
     "name": "stdout",
     "output_type": "stream",
     "text": [
      "+---+------+-----------+----------+----------+-------------+-----------------+----------------+\n",
      "|Row|   Day|Day_Of_Week|      Date|Page_Loads|Unique_Visits|First_Time_Visits|Returning_Visits|\n",
      "+---+------+-----------+----------+----------+-------------+-----------------+----------------+\n",
      "| 97|Friday|          6|12/19/2014|      2748|         1879|             1559|             320|\n",
      "|237|Friday|          6|05-08-2015|      4696|         3366|             2824|             542|\n",
      "|104|Friday|          6|12/26/2014|      1486|         1005|              808|             197|\n",
      "|  6|Friday|          6| 9/19/2014|      2815|         1863|             1622|             241|\n",
      "|111|Friday|          6|01-02-2015|      1948|         1288|             1030|             258|\n",
      "| 20|Friday|          6|10-03-2014|      3005|         2097|             1856|             241|\n",
      "|118|Friday|          6|01-09-2015|      2783|         1941|             1663|             278|\n",
      "| 34|Friday|          6|10/17/2014|      3624|         2477|             2148|             329|\n",
      "|125|Friday|          6| 1/16/2015|      2943|         1928|             1640|             288|\n",
      "| 55|Friday|          6|11-07-2014|      3236|         2318|             1975|             343|\n",
      "|132|Friday|          6| 1/23/2015|      3111|         2181|             1897|             284|\n",
      "| 69|Friday|          6|11/21/2014|      3914|         2750|             2361|             389|\n",
      "|139|Friday|          6| 1/30/2015|      3734|         2514|             2129|             385|\n",
      "| 83|Friday|          6|12-05-2014|      3934|         2856|             2479|             377|\n",
      "|146|Friday|          6|02-06-2015|      3505|         2468|             2075|             393|\n",
      "|167|Friday|          6| 2/27/2015|      4434|         2969|             2486|             483|\n",
      "|174|Friday|          6|03-06-2015|      3893|         2707|             2259|             448|\n",
      "| 48|Friday|          6|10/31/2014|      2933|         2007|             1728|             279|\n",
      "|181|Friday|          6| 3/13/2015|      4185|         3045|             2559|             486|\n",
      "| 27|Friday|          6|10-10-2014|      3565|         2382|             2100|             282|\n",
      "+---+------+-----------+----------+----------+-------------+-----------------+----------------+\n",
      "only showing top 20 rows\n",
      "\n",
      "+---+---------+-----------+----------+----------+-------------+-----------------+----------------+\n",
      "|Row|      Day|Day_Of_Week|      Date|Page_Loads|Unique_Visits|First_Time_Visits|Returning_Visits|\n",
      "+---+---------+-----------+----------+----------+-------------+-----------------+----------------+\n",
      "| 95|Wednesday|          4|12/17/2014|      4222|         3053|             2606|             447|\n",
      "|235|Wednesday|          4|05-06-2015|      6551|         4768|             4059|             709|\n",
      "|102|Wednesday|          4|12/24/2014|      1430|          947|              772|             175|\n",
      "|  4|Wednesday|          4| 9/17/2014|      3667|         2614|             2327|             287|\n",
      "|109|Wednesday|          4|12/31/2014|      1381|          955|              773|             182|\n",
      "| 18|Wednesday|          4|10-01-2014|      4124|         2849|             2541|             308|\n",
      "|116|Wednesday|          4|01-07-2015|      3423|         2384|             1991|             393|\n",
      "| 32|Wednesday|          4|10/15/2014|      5028|         3515|             3094|             421|\n",
      "|123|Wednesday|          4| 1/14/2015|      3931|         2656|             2229|             427|\n",
      "| 53|Wednesday|          4|11-05-2014|      4306|         3200|             2797|             403|\n",
      "|130|Wednesday|          4| 1/21/2015|      4038|         2916|             2482|             434|\n",
      "| 67|Wednesday|          4|11/19/2014|      4866|         3544|             3056|             488|\n",
      "|137|Wednesday|          4| 1/28/2015|      4464|         3280|             2862|             418|\n",
      "| 81|Wednesday|          4|12-03-2014|      5728|         4217|             3656|             561|\n",
      "|144|Wednesday|          4|02-04-2015|      5016|         3500|             3023|             477|\n",
      "|165|Wednesday|          4| 2/25/2015|      5615|         4019|             3432|             587|\n",
      "|172|Wednesday|          4|03-04-2015|      5585|         4060|             3457|             603|\n",
      "| 46|Wednesday|          4|10/29/2014|      4596|         3279|             2863|             416|\n",
      "|179|Wednesday|          4|03-11-2015|      5229|         3859|             3263|             596|\n",
      "| 25|Wednesday|          4|10-08-2014|      4187|         3014|             2663|             351|\n",
      "+---+---------+-----------+----------+----------+-------------+-----------------+----------------+\n",
      "only showing top 20 rows\n",
      "\n"
     ]
    }
   ],
   "source": [
    "# 4.2 asc() and desc() - sort the df columns by ascending or descendig order\n",
    "df.sort(df.Day.asc()).show()\n",
    "df.sort(df.Day.desc()).show()"
   ]
  },
  {
   "cell_type": "code",
   "execution_count": 22,
   "id": "4e54a7f7",
   "metadata": {
    "ExecuteTime": {
     "end_time": "2023-11-28T11:59:07.427764Z",
     "start_time": "2023-11-28T11:59:07.391784Z"
    }
   },
   "outputs": [
    {
     "name": "stdout",
     "output_type": "stream",
     "text": [
      "root\n",
      " |-- Day: string (nullable = true)\n",
      " |-- Row: integer (nullable = true)\n",
      "\n"
     ]
    }
   ],
   "source": [
    "# 4.3 cast() and astype() - used to convert the data type.\n",
    "df.select(df.Day,df.Row.cast(\"int\")).printSchema()"
   ]
  },
  {
   "cell_type": "code",
   "execution_count": 28,
   "id": "6c04137a",
   "metadata": {
    "ExecuteTime": {
     "end_time": "2023-11-28T12:05:11.659257Z",
     "start_time": "2023-11-28T12:05:11.385469Z"
    }
   },
   "outputs": [
    {
     "name": "stdout",
     "output_type": "stream",
     "text": [
      "+---+---------+-----------+----------+----------+-------------+-----------------+----------------+\n",
      "|Row|      Day|Day_Of_Week|      Date|Page_Loads|Unique_Visits|First_Time_Visits|Returning_Visits|\n",
      "+---+---------+-----------+----------+----------+-------------+-----------------+----------------+\n",
      "|100|   Monday|          2|12/22/2014|      2452|         1715|             1394|             321|\n",
      "|101|  Tuesday|          3|12/23/2014|      2298|         1440|             1159|             281|\n",
      "|102|Wednesday|          4|12/24/2014|      1430|          947|              772|             175|\n",
      "|103| Thursday|          5|12/25/2014|      1002|          667|              522|             145|\n",
      "|104|   Friday|          6|12/26/2014|      1486|         1005|              808|             197|\n",
      "|105| Saturday|          7|12/27/2014|      1345|          941|              781|             160|\n",
      "|106|   Sunday|          1|12/28/2014|      1453|          948|              765|             183|\n",
      "|107|   Monday|          2|12/29/2014|      2173|         1472|             1228|             244|\n",
      "|108|  Tuesday|          3|12/30/2014|      2208|         1424|             1172|             252|\n",
      "|109|Wednesday|          4|12/31/2014|      1381|          955|              773|             182|\n",
      "|110| Thursday|          5|01-01-2015|      1265|          876|              715|             161|\n",
      "|111|   Friday|          6|01-02-2015|      1948|         1288|             1030|             258|\n",
      "|112| Saturday|          7|01-03-2015|      1742|         1096|              946|             150|\n",
      "|113|   Sunday|          1|01-04-2015|      1896|         1409|             1186|             223|\n",
      "|114|   Monday|          2|01-05-2015|      3033|         2062|             1706|             356|\n",
      "|115|  Tuesday|          3|01-06-2015|      3445|         2327|             1942|             385|\n",
      "|116|Wednesday|          4|01-07-2015|      3423|         2384|             1991|             393|\n",
      "|117| Thursday|          5|01-08-2015|      3319|         2272|             1922|             350|\n",
      "|118|   Friday|          6|01-09-2015|      2783|         1941|             1663|             278|\n",
      "|119| Saturday|          7|01-10-2015|      1952|         1240|             1066|             174|\n",
      "+---+---------+-----------+----------+----------+-------------+-----------------+----------------+\n",
      "only showing top 20 rows\n",
      "\n"
     ]
    }
   ],
   "source": [
    "# 4.4 between() - Return a boolean expression when a column values in between lower and upper bound.\n",
    "df.filter(df.Row.between(100,300)).show()"
   ]
  },
  {
   "cell_type": "code",
   "execution_count": 31,
   "id": "72fc0cea",
   "metadata": {
    "ExecuteTime": {
     "end_time": "2023-11-28T12:07:37.445240Z",
     "start_time": "2023-11-28T12:07:37.182682Z"
    }
   },
   "outputs": [
    {
     "name": "stdout",
     "output_type": "stream",
     "text": [
      "+---+---------+-----------+---------+----------+-------------+-----------------+----------------+\n",
      "|Row|      Day|Day_Of_Week|     Date|Page_Loads|Unique_Visits|First_Time_Visits|Returning_Visits|\n",
      "+---+---------+-----------+---------+----------+-------------+-----------------+----------------+\n",
      "| 11|Wednesday|          4|9/24/2014|      4414|         3175|             2891|             284|\n",
      "+---+---------+-----------+---------+----------+-------------+-----------------+----------------+\n",
      "\n"
     ]
    }
   ],
   "source": [
    "# 4.5 contain() -check if a df column value contain a value specified in this function.\n",
    "df.filter(df.Date.contains(\"9/24/2014\")).show()"
   ]
  },
  {
   "cell_type": "code",
   "execution_count": 32,
   "id": "fc9ada3d",
   "metadata": {
    "ExecuteTime": {
     "end_time": "2023-11-28T12:10:29.123454Z",
     "start_time": "2023-11-28T12:10:28.294286Z"
    }
   },
   "outputs": [
    {
     "name": "stdout",
     "output_type": "stream",
     "text": [
      "+---+------+-----------+----------+----------+-------------+-----------------+----------------+\n",
      "|Row|   Day|Day_Of_Week|      Date|Page_Loads|Unique_Visits|First_Time_Visits|Returning_Visits|\n",
      "+---+------+-----------+----------+----------+-------------+-----------------+----------------+\n",
      "|  6|Friday|          6| 9/19/2014|      2815|         1863|             1622|             241|\n",
      "| 13|Friday|          6| 9/26/2014|      3323|         2249|             2033|             216|\n",
      "| 20|Friday|          6|10-03-2014|      3005|         2097|             1856|             241|\n",
      "| 27|Friday|          6|10-10-2014|      3565|         2382|             2100|             282|\n",
      "| 34|Friday|          6|10/17/2014|      3624|         2477|             2148|             329|\n",
      "| 41|Friday|          6|10/24/2014|      3571|         2498|             2170|             328|\n",
      "| 48|Friday|          6|10/31/2014|      2933|         2007|             1728|             279|\n",
      "| 55|Friday|          6|11-07-2014|      3236|         2318|             1975|             343|\n",
      "| 62|Friday|          6|11/14/2014|      3382|         2423|             2061|             362|\n",
      "| 69|Friday|          6|11/21/2014|      3914|         2750|             2361|             389|\n",
      "| 76|Friday|          6|11/28/2014|      3270|         2268|             1931|             337|\n",
      "| 83|Friday|          6|12-05-2014|      3934|         2856|             2479|             377|\n",
      "| 90|Friday|          6|12-12-2014|      3880|         2860|             2418|             442|\n",
      "| 97|Friday|          6|12/19/2014|      2748|         1879|             1559|             320|\n",
      "|104|Friday|          6|12/26/2014|      1486|         1005|              808|             197|\n",
      "|111|Friday|          6|01-02-2015|      1948|         1288|             1030|             258|\n",
      "|118|Friday|          6|01-09-2015|      2783|         1941|             1663|             278|\n",
      "|125|Friday|          6| 1/16/2015|      2943|         1928|             1640|             288|\n",
      "|132|Friday|          6| 1/23/2015|      3111|         2181|             1897|             284|\n",
      "|139|Friday|          6| 1/30/2015|      3734|         2514|             2129|             385|\n",
      "+---+------+-----------+----------+----------+-------------+-----------------+----------------+\n",
      "only showing top 20 rows\n",
      "\n",
      "+---+---+-----------+----+----------+-------------+-----------------+----------------+\n",
      "|Row|Day|Day_Of_Week|Date|Page_Loads|Unique_Visits|First_Time_Visits|Returning_Visits|\n",
      "+---+---+-----------+----+----------+-------------+-----------------+----------------+\n",
      "+---+---+-----------+----+----------+-------------+-----------------+----------------+\n",
      "\n"
     ]
    }
   ],
   "source": [
    "# 4.6 startswith() & endswith() - check if the value of df column starts and ends with a string resp.\n",
    "df.filter(df.Day.startswith(\"F\")).show()\n",
    "df.filter(df.Day.endswith(\"a\")).show()"
   ]
  },
  {
   "cell_type": "code",
   "execution_count": 35,
   "id": "dc1c3a07",
   "metadata": {
    "ExecuteTime": {
     "end_time": "2023-11-28T12:14:50.888479Z",
     "start_time": "2023-11-28T12:14:50.373445Z"
    }
   },
   "outputs": [
    {
     "name": "stdout",
     "output_type": "stream",
     "text": [
      "+----------------------------+\n",
      "|(First_Time_Visits <=> NULL)|\n",
      "+----------------------------+\n",
      "|                       false|\n",
      "|                       false|\n",
      "|                       false|\n",
      "|                       false|\n",
      "|                       false|\n",
      "|                       false|\n",
      "|                       false|\n",
      "|                       false|\n",
      "|                       false|\n",
      "|                       false|\n",
      "|                       false|\n",
      "|                       false|\n",
      "|                       false|\n",
      "|                       false|\n",
      "|                       false|\n",
      "|                       false|\n",
      "|                       false|\n",
      "|                       false|\n",
      "|                       false|\n",
      "|                       false|\n",
      "+----------------------------+\n",
      "only showing top 20 rows\n",
      "\n",
      "+---------------------------+\n",
      "|(First_Time_Visits <=> 985)|\n",
      "+---------------------------+\n",
      "|                      false|\n",
      "|                      false|\n",
      "|                      false|\n",
      "|                      false|\n",
      "|                      false|\n",
      "|                      false|\n",
      "|                       true|\n",
      "|                      false|\n",
      "|                      false|\n",
      "|                      false|\n",
      "|                      false|\n",
      "|                      false|\n",
      "|                      false|\n",
      "|                      false|\n",
      "|                      false|\n",
      "|                      false|\n",
      "|                      false|\n",
      "|                      false|\n",
      "|                      false|\n",
      "|                      false|\n",
      "+---------------------------+\n",
      "only showing top 20 rows\n",
      "\n"
     ]
    }
   ],
   "source": [
    "# 4.7 eqNullSafe() - equality test that is safe for null values.\n",
    "df.select(df.First_Time_Visits.eqNullSafe(None)).show()\n",
    "df.select(df.First_Time_Visits.eqNullSafe(985)).show()"
   ]
  },
  {
   "cell_type": "code",
   "execution_count": 36,
   "id": "54670124",
   "metadata": {
    "ExecuteTime": {
     "end_time": "2023-11-28T12:21:17.397860Z",
     "start_time": "2023-11-28T12:21:16.711170Z"
    }
   },
   "outputs": [
    {
     "name": "stdout",
     "output_type": "stream",
     "text": [
      "+---+---+-----------+----+----------+-------------+-----------------+----------------+\n",
      "|Row|Day|Day_Of_Week|Date|Page_Loads|Unique_Visits|First_Time_Visits|Returning_Visits|\n",
      "+---+---+-----------+----+----------+-------------+-----------------+----------------+\n",
      "+---+---+-----------+----+----------+-------------+-----------------+----------------+\n",
      "\n",
      "+---+---------+-----------+----------+----------+-------------+-----------------+----------------+\n",
      "|Row|      Day|Day_Of_Week|      Date|Page_Loads|Unique_Visits|First_Time_Visits|Returning_Visits|\n",
      "+---+---------+-----------+----------+----------+-------------+-----------------+----------------+\n",
      "|  1|   Sunday|          1| 9/14/2014|      2146|         1582|             1430|             152|\n",
      "|  2|   Monday|          2| 9/15/2014|      3621|         2528|             2297|             231|\n",
      "|  3|  Tuesday|          3| 9/16/2014|      3698|         2630|             2352|             278|\n",
      "|  4|Wednesday|          4| 9/17/2014|      3667|         2614|             2327|             287|\n",
      "|  5| Thursday|          5| 9/18/2014|      3316|         2366|             2130|             236|\n",
      "|  6|   Friday|          6| 9/19/2014|      2815|         1863|             1622|             241|\n",
      "|  7| Saturday|          7| 9/20/2014|      1658|         1118|              985|             133|\n",
      "|  8|   Sunday|          1| 9/21/2014|      2288|         1656|             1481|             175|\n",
      "|  9|   Monday|          2| 9/22/2014|      3638|         2586|             2312|             274|\n",
      "| 10|  Tuesday|          3| 9/23/2014|      4462|         3257|             2989|             268|\n",
      "| 11|Wednesday|          4| 9/24/2014|      4414|         3175|             2891|             284|\n",
      "| 12| Thursday|          5| 9/25/2014|      4315|         3029|             2743|             286|\n",
      "| 13|   Friday|          6| 9/26/2014|      3323|         2249|             2033|             216|\n",
      "| 14| Saturday|          7| 9/27/2014|      1656|         1180|             1040|             140|\n",
      "| 15|   Sunday|          1| 9/28/2014|      2465|         1806|             1613|             193|\n",
      "| 16|   Monday|          2| 9/29/2014|      4096|         2873|             2577|             296|\n",
      "| 17|  Tuesday|          3| 9/30/2014|      4474|         3032|             2720|             312|\n",
      "| 18|Wednesday|          4|10-01-2014|      4124|         2849|             2541|             308|\n",
      "| 19| Thursday|          5|10-02-2014|      3514|         2489|             2239|             250|\n",
      "| 20|   Friday|          6|10-03-2014|      3005|         2097|             1856|             241|\n",
      "+---+---------+-----------+----------+----------+-------------+-----------------+----------------+\n",
      "only showing top 20 rows\n",
      "\n"
     ]
    }
   ],
   "source": [
    "# 4.8 isNull() & isNotNull() - check if the df column has NULL or non NULL values.\n",
    "df.filter(df.Page_Loads.isNull()).show()\n",
    "df.filter(df.Page_Loads.isNotNull()).show()"
   ]
  },
  {
   "cell_type": "code",
   "execution_count": 44,
   "id": "862a9206",
   "metadata": {
    "ExecuteTime": {
     "end_time": "2023-11-28T12:31:45.350702Z",
     "start_time": "2023-11-28T12:31:45.015449Z"
    }
   },
   "outputs": [
    {
     "name": "stdout",
     "output_type": "stream",
     "text": [
      "+------+----------+---+\n",
      "|   Day|      Date|Row|\n",
      "+------+----------+---+\n",
      "|Sunday| 9/14/2014|  1|\n",
      "|Sunday| 9/21/2014|  8|\n",
      "|Sunday| 9/28/2014| 15|\n",
      "|Sunday|10-05-2014| 22|\n",
      "|Sunday|10-12-2014| 29|\n",
      "|Sunday|10/19/2014| 36|\n",
      "|Sunday|10/26/2014| 43|\n",
      "|Sunday|11-02-2014| 50|\n",
      "|Sunday|11-09-2014| 57|\n",
      "|Sunday|11/16/2014| 64|\n",
      "|Sunday|11/23/2014| 71|\n",
      "|Sunday|11/30/2014| 78|\n",
      "|Sunday|12-07-2014| 85|\n",
      "|Sunday|12/14/2014| 92|\n",
      "|Sunday|12/21/2014| 99|\n",
      "|Sunday|12/28/2014|106|\n",
      "|Sunday|01-04-2015|113|\n",
      "|Sunday|01-11-2015|120|\n",
      "|Sunday| 1/18/2015|127|\n",
      "|Sunday| 1/25/2015|134|\n",
      "+------+----------+---+\n",
      "only showing top 20 rows\n",
      "\n",
      "+-------+----------+---+\n",
      "|    Day|      Date|Row|\n",
      "+-------+----------+---+\n",
      "|Tuesday| 9/16/2014|  3|\n",
      "|Tuesday| 9/23/2014| 10|\n",
      "|Tuesday| 9/30/2014| 17|\n",
      "|Tuesday|10-07-2014| 24|\n",
      "|Tuesday|10/14/2014| 31|\n",
      "|Tuesday|10/21/2014| 38|\n",
      "|Tuesday|10/28/2014| 45|\n",
      "|Tuesday|11-04-2014| 52|\n",
      "|Tuesday|11-11-2014| 59|\n",
      "|Tuesday|11/18/2014| 66|\n",
      "|Tuesday|11/25/2014| 73|\n",
      "|Tuesday|12-02-2014| 80|\n",
      "|Tuesday|12-09-2014| 87|\n",
      "|Tuesday|12/16/2014| 94|\n",
      "|Tuesday|12/23/2014|101|\n",
      "|Tuesday|12/30/2014|108|\n",
      "|Tuesday|01-06-2015|115|\n",
      "|Tuesday| 1/13/2015|122|\n",
      "|Tuesday| 1/20/2015|129|\n",
      "|Tuesday| 1/27/2015|136|\n",
      "+-------+----------+---+\n",
      "only showing top 20 rows\n",
      "\n"
     ]
    }
   ],
   "source": [
    "# 4.9 like() & rlike() - similar to SQL LIKE Exepression\n",
    "df.select(df.Day,df.Date,df.Row).filter(df.Day.like(\"Sun%\")).show()\n",
    "df.select(df.Day,df.Date,df.Row).filter(df.Day.like(\"%ues%\")).show()"
   ]
  },
  {
   "cell_type": "code",
   "execution_count": 46,
   "id": "ecccbe17",
   "metadata": {
    "ExecuteTime": {
     "end_time": "2023-11-28T12:51:36.441036Z",
     "start_time": "2023-11-28T12:51:36.043491Z"
    }
   },
   "outputs": [
    {
     "name": "stdout",
     "output_type": "stream",
     "text": [
      "+------+\n",
      "|Substr|\n",
      "+------+\n",
      "| unday|\n",
      "| onday|\n",
      "| uesda|\n",
      "| ednes|\n",
      "| hursd|\n",
      "| riday|\n",
      "| aturd|\n",
      "| unday|\n",
      "| onday|\n",
      "| uesda|\n",
      "| ednes|\n",
      "| hursd|\n",
      "| riday|\n",
      "| aturd|\n",
      "| unday|\n",
      "| onday|\n",
      "| uesda|\n",
      "| ednes|\n",
      "| hursd|\n",
      "| riday|\n",
      "+------+\n",
      "only showing top 20 rows\n",
      "\n"
     ]
    }
   ],
   "source": [
    "# 4.10 substr() - Return a column after getting sub string from column\n",
    "df.select(df.Day.substr(2,5).alias(\"Substr\")).show()"
   ]
  },
  {
   "cell_type": "code",
   "execution_count": 50,
   "id": "3f1b68d7",
   "metadata": {
    "ExecuteTime": {
     "end_time": "2023-11-28T13:05:05.257813Z",
     "start_time": "2023-11-28T13:05:04.951577Z"
    }
   },
   "outputs": [
    {
     "name": "stdout",
     "output_type": "stream",
     "text": [
      "+---+-------------+-----------+\n",
      "|Row|Unique_Visits|Week_Status|\n",
      "+---+-------------+-----------+\n",
      "|  1|         1582|    Weekend|\n",
      "|  2|         2528|     Monday|\n",
      "|  3|         2630|    Tuesday|\n",
      "|  4|         2614|  Wednesday|\n",
      "|  5|         2366|   Thursday|\n",
      "|  6|         1863|     Friday|\n",
      "|  7|         1118|    Weekend|\n",
      "|  8|         1656|    Weekend|\n",
      "|  9|         2586|     Monday|\n",
      "| 10|         3257|    Tuesday|\n",
      "| 11|         3175|  Wednesday|\n",
      "| 12|         3029|   Thursday|\n",
      "| 13|         2249|     Friday|\n",
      "| 14|         1180|    Weekend|\n",
      "| 15|         1806|    Weekend|\n",
      "| 16|         2873|     Monday|\n",
      "| 17|         3032|    Tuesday|\n",
      "| 18|         2849|  Wednesday|\n",
      "| 19|         2489|   Thursday|\n",
      "| 20|         2097|     Friday|\n",
      "+---+-------------+-----------+\n",
      "only showing top 20 rows\n",
      "\n"
     ]
    }
   ],
   "source": [
    " #4.11 when() & otherwise() - It is similar to SQL Case When, executes sequence of expressios until\n",
    "# it matches the condition and returns a value when match\n",
    "\n",
    "# when & otherwise\n",
    "from pyspark.sql.functions import when\n",
    "df.select(df.Row, df.Unique_Visits,when(df.Day==\"Sunday\",\"Weekend\")\\\n",
    "          .when(df.Day==\"Saturday\",\"Weekend\").otherwise(df.Day).alias(\"Week_Status\")).show()"
   ]
  },
  {
   "cell_type": "code",
   "execution_count": 52,
   "id": "6c739a80",
   "metadata": {
    "ExecuteTime": {
     "end_time": "2023-11-28T13:09:06.033173Z",
     "start_time": "2023-11-28T13:09:05.647959Z"
    }
   },
   "outputs": [
    {
     "name": "stdout",
     "output_type": "stream",
     "text": [
      "+---+---------+-----------------+\n",
      "|Row|      Day|First_Time_Visits|\n",
      "+---+---------+-----------------+\n",
      "| 10|  Tuesday|             2989|\n",
      "| 11|Wednesday|             2891|\n",
      "+---+---------+-----------------+\n",
      "\n"
     ]
    }
   ],
   "source": [
    "# 4.12 isin() -check if value presents in a list \n",
    "list_=[\"9/23/2014\",\"9/24/2014\"]\n",
    "df.select(df.Row,df.Day,df.First_Time_Visits).filter(df.Date.isin(list_)).show()"
   ]
  },
  {
   "cell_type": "code",
   "execution_count": 57,
   "id": "4f2a93c3",
   "metadata": {
    "ExecuteTime": {
     "end_time": "2023-11-28T13:35:04.090249Z",
     "start_time": "2023-11-28T13:35:03.447517Z"
    }
   },
   "outputs": [
    {
     "name": "stdout",
     "output_type": "stream",
     "text": [
      "root\n",
      " |-- name: struct (nullable = true)\n",
      " |    |-- fname: string (nullable = true)\n",
      " |    |-- lname: string (nullable = true)\n",
      " |-- langauge: array (nullable = true)\n",
      " |    |-- element: string (containsNull = true)\n",
      " |-- properties: map (nullable = true)\n",
      " |    |-- key: string\n",
      " |    |-- value: string (valueContainsNull = true)\n",
      "\n"
     ]
    }
   ],
   "source": [
    "# 4.13 getField() - To get the value by key from MapType column and by struct child name \n",
    "# from StructType Column\n",
    "from pyspark.sql.types import StringType,StructField,StructType,ArrayType, MapType\n",
    "\n",
    "structureData = [\n",
    "    ((\"James\",\"Smith\"),[\"Java\",\"C#\"],{\"hair\": \"black\",\"eye\":\"brown\"}),\n",
    "    ((\"Michael\",\"Rose\"),[\"python\",\"C#\"],{\"hair\": \"white\",\"eye\":\"blue\"}),\n",
    "    ((\"Robert\",\"Williams\"),[\"Java\",\"python\"],{\"hair\": \"red\",\"eye\":\"brown\"}),\n",
    "    ((\"Maria\",\"Anne\"),[\"SQL\",\"python\"],{\"hair\": \"black\",\"eye\":\"blue\"}),\n",
    "    ((\"Jen\",\"Mary\"),[\"Java\",\"SQL\"],{\"hair\": \"black\",\"eye\":\"brown\"})\n",
    "  ]\n",
    "\n",
    "schema = StructType([\n",
    "    StructField(\"name\",StructType([\n",
    "        StructField(\"fname\",StringType(),True),\n",
    "        StructField(\"lname\",StringType(),True)])),\n",
    "    StructField(\"langauge\",ArrayType(StringType(),True)),\n",
    "    StructField(\"properties\",MapType(StringType(),StringType(),True))])\n",
    "\n",
    "data=spark.createDataFrame(structureData,schema)\n",
    "data.printSchema()"
   ]
  },
  {
   "cell_type": "code",
   "execution_count": 60,
   "id": "793e4446",
   "metadata": {
    "ExecuteTime": {
     "end_time": "2023-11-28T13:37:31.224938Z",
     "start_time": "2023-11-28T13:37:31.091804Z"
    }
   },
   "outputs": [
    {
     "data": {
      "text/plain": [
       "DataFrame[name.fname: string]"
      ]
     },
     "execution_count": 60,
     "metadata": {},
     "output_type": "execute_result"
    }
   ],
   "source": [
    "# getField from MapType\n",
    "data.select(data.properties.getField(\"hair\"))\n",
    "# getField from Struct\n",
    "data.select(data.name.getField(\"fname\"))"
   ]
  },
  {
   "cell_type": "code",
   "execution_count": 64,
   "id": "51d6baf4",
   "metadata": {
    "ExecuteTime": {
     "end_time": "2023-11-28T13:44:28.194489Z",
     "start_time": "2023-11-28T13:44:28.138522Z"
    }
   },
   "outputs": [
    {
     "data": {
      "text/plain": [
       "DataFrame[properties[hair]: string]"
      ]
     },
     "execution_count": 64,
     "metadata": {},
     "output_type": "execute_result"
    }
   ],
   "source": [
    "# 4.14 getItem() - To get the value by index from MapType or ArrayType and ny key for MapType column.\n",
    "\n",
    "# getItem() used with ArrayType\n",
    "data.select(data.langauge.getItem(1))\n",
    "\n",
    "# getItem() used with MapType \n",
    "data.select(data.properties.getItem(\"hair\"))"
   ]
  },
  {
   "cell_type": "code",
   "execution_count": null,
   "id": "055e0ec5",
   "metadata": {},
   "outputs": [],
   "source": [
    "# 4.15 dropField - used to drops fields in StructType by name\n",
    "# 4.16 withField() - An expression that adds/replaces a field in StructType by name\n",
    "# 4.17 over() - used with window functions"
   ]
  }
 ],
 "metadata": {
  "hide_input": false,
  "kernelspec": {
   "display_name": "Python 3 (ipykernel)",
   "language": "python",
   "name": "python3"
  },
  "language_info": {
   "codemirror_mode": {
    "name": "ipython",
    "version": 3
   },
   "file_extension": ".py",
   "mimetype": "text/x-python",
   "name": "python",
   "nbconvert_exporter": "python",
   "pygments_lexer": "ipython3",
   "version": "3.9.7"
  }
 },
 "nbformat": 4,
 "nbformat_minor": 5
}

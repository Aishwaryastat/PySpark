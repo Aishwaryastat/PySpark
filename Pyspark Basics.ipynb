{
 "cells": [
  {
   "cell_type": "markdown",
   "id": "ca6992f5",
   "metadata": {
    "ExecuteTime": {
     "end_time": "2023-11-25T12:10:30.981983Z",
     "start_time": "2023-11-25T12:09:52.019026Z"
    }
   },
   "source": [
    "# from pyspark.sql import SparkSession \n",
    "\n",
    "# create sparksession \n",
    "\n",
    "spark= SparkSession.builder.appName(\"SparkExamples\").getOrCreate()\n",
    "spark\n"
   ]
  },
  {
   "cell_type": "code",
   "execution_count": 9,
   "id": "d36c0f3a",
   "metadata": {
    "ExecuteTime": {
     "end_time": "2023-11-25T12:20:36.709057Z",
     "start_time": "2023-11-25T12:20:36.604116Z"
    }
   },
   "outputs": [
    {
     "name": "stdout",
     "output_type": "stream",
     "text": [
      "[('James', '', 'Smith', 30, 'M', 60000), ('Michael', 'Rose', '', 50, 'M', 70000), ('Robert', '', 'Williams', 42, '', 400000), ('Maria', 'Anne', 'Jones', 38, 'F', 500000), ('Jen', 'Mary', 'Brown', 45, 'F', 0)]\n",
      "root\n",
      " |-- firstname: string (nullable = true)\n",
      " |-- middlename: string (nullable = true)\n",
      " |-- lastname: string (nullable = true)\n",
      " |-- age: long (nullable = true)\n",
      " |-- gender: string (nullable = true)\n",
      " |-- salary: long (nullable = true)\n",
      "\n"
     ]
    }
   ],
   "source": [
    "data =[(\"James\",\"\",\"Smith\",30,\"M\",60000),\n",
    "       (\"Michael\",\"Rose\",\"\",50,\"M\",70000),\n",
    "       (\"Robert\",\"\",\"Williams\",42,\"\",400000),\n",
    "       (\"Maria\",\"Anne\",\"Jones\",38,\"F\",500000),\n",
    "       (\"Jen\",\"Mary\",\"Brown\",45,\"F\",0)]\n",
    "\n",
    "print(data)\n",
    "\n",
    "column=[\"firstname\",\"middlename\",\"lastname\",\"age\",\"gender\",\"salary\"]\n",
    "\n",
    "# create pyspark dataframe\n",
    "\n",
    "pysparkdf=spark.createDataFrame(data=data,schema=column)\n",
    "\n",
    "pysparkdf.printSchema()"
   ]
  },
  {
   "cell_type": "code",
   "execution_count": 13,
   "id": "999c6bb2",
   "metadata": {
    "ExecuteTime": {
     "end_time": "2023-11-25T12:24:03.566576Z",
     "start_time": "2023-11-25T12:24:03.559581Z"
    },
    "scrolled": false
   },
   "outputs": [],
   "source": [
    "# pysparkdf.show(truncate= False)"
   ]
  },
  {
   "cell_type": "code",
   "execution_count": 20,
   "id": "142c870f",
   "metadata": {
    "ExecuteTime": {
     "end_time": "2023-11-25T12:36:25.952462Z",
     "start_time": "2023-11-25T12:36:24.619335Z"
    }
   },
   "outputs": [
    {
     "data": {
      "text/plain": [
       "DataFrame[Row: int, Day: string, Day.Of.Week: int, Date: string, Page.Loads: int, Unique.Visits: int, First.Time.Visits: int, Returning.Visits: int]"
      ]
     },
     "execution_count": 20,
     "metadata": {},
     "output_type": "execute_result"
    }
   ],
   "source": [
    "# read csv file\n",
    "file_path = \"C:\\\\Users\\\\pcc\\\\Desktop\\\\daily-website-visitors.csv\"\n",
    "df=spark.read.csv(file_path,header=True,inferSchema=True)\n",
    "df"
   ]
  },
  {
   "cell_type": "markdown",
   "id": "2408b812",
   "metadata": {},
   "source": [
    ".csv\n",
    "\n",
    ".text\n",
    "\n",
    ".Avro\n",
    "\n",
    ".Parquet\n",
    "\n",
    ".tsv\n",
    "\n",
    ".xml \n",
    "\n",
    "and many more"
   ]
  },
  {
   "cell_type": "code",
   "execution_count": 21,
   "id": "f46197c4",
   "metadata": {
    "ExecuteTime": {
     "end_time": "2023-11-25T12:36:28.299913Z",
     "start_time": "2023-11-25T12:36:28.279187Z"
    }
   },
   "outputs": [
    {
     "name": "stdout",
     "output_type": "stream",
     "text": [
      "root\n",
      " |-- Row: integer (nullable = true)\n",
      " |-- Day: string (nullable = true)\n",
      " |-- Day.Of.Week: integer (nullable = true)\n",
      " |-- Date: string (nullable = true)\n",
      " |-- Page.Loads: integer (nullable = true)\n",
      " |-- Unique.Visits: integer (nullable = true)\n",
      " |-- First.Time.Visits: integer (nullable = true)\n",
      " |-- Returning.Visits: integer (nullable = true)\n",
      "\n"
     ]
    }
   ],
   "source": [
    "df.printSchema()"
   ]
  },
  {
   "cell_type": "code",
   "execution_count": 22,
   "id": "63646e26",
   "metadata": {
    "ExecuteTime": {
     "end_time": "2023-11-25T12:38:08.405068Z",
     "start_time": "2023-11-25T12:38:07.705902Z"
    }
   },
   "outputs": [
    {
     "name": "stdout",
     "output_type": "stream",
     "text": [
      "+---+---------+-----------+----------+----------+-------------+-----------------+----------------+\n",
      "|Row|      Day|Day.Of.Week|      Date|Page.Loads|Unique.Visits|First.Time.Visits|Returning.Visits|\n",
      "+---+---------+-----------+----------+----------+-------------+-----------------+----------------+\n",
      "|  1|   Sunday|          1| 9/14/2014|      2146|         1582|             1430|             152|\n",
      "|  2|   Monday|          2| 9/15/2014|      3621|         2528|             2297|             231|\n",
      "|  3|  Tuesday|          3| 9/16/2014|      3698|         2630|             2352|             278|\n",
      "|  4|Wednesday|          4| 9/17/2014|      3667|         2614|             2327|             287|\n",
      "|  5| Thursday|          5| 9/18/2014|      3316|         2366|             2130|             236|\n",
      "|  6|   Friday|          6| 9/19/2014|      2815|         1863|             1622|             241|\n",
      "|  7| Saturday|          7| 9/20/2014|      1658|         1118|              985|             133|\n",
      "|  8|   Sunday|          1| 9/21/2014|      2288|         1656|             1481|             175|\n",
      "|  9|   Monday|          2| 9/22/2014|      3638|         2586|             2312|             274|\n",
      "| 10|  Tuesday|          3| 9/23/2014|      4462|         3257|             2989|             268|\n",
      "| 11|Wednesday|          4| 9/24/2014|      4414|         3175|             2891|             284|\n",
      "| 12| Thursday|          5| 9/25/2014|      4315|         3029|             2743|             286|\n",
      "| 13|   Friday|          6| 9/26/2014|      3323|         2249|             2033|             216|\n",
      "| 14| Saturday|          7| 9/27/2014|      1656|         1180|             1040|             140|\n",
      "| 15|   Sunday|          1| 9/28/2014|      2465|         1806|             1613|             193|\n",
      "| 16|   Monday|          2| 9/29/2014|      4096|         2873|             2577|             296|\n",
      "| 17|  Tuesday|          3| 9/30/2014|      4474|         3032|             2720|             312|\n",
      "| 18|Wednesday|          4|10-01-2014|      4124|         2849|             2541|             308|\n",
      "| 19| Thursday|          5|10-02-2014|      3514|         2489|             2239|             250|\n",
      "| 20|   Friday|          6|10-03-2014|      3005|         2097|             1856|             241|\n",
      "+---+---------+-----------+----------+----------+-------------+-----------------+----------------+\n",
      "only showing top 20 rows\n",
      "\n"
     ]
    }
   ],
   "source": [
    "df.show()"
   ]
  },
  {
   "cell_type": "code",
   "execution_count": null,
   "id": "62623c51",
   "metadata": {},
   "outputs": [],
   "source": [
    "cols=[\"Row\",\"Day\",\"Day.Of.Week\",\"Date\",\"Page.Loads\",\"Unique.Visits\",\"First.Time.Visits\",\n",
    "      \"Returning.Visits\"]\n",
    "new_cols=[\"Row\",\"Day\",\"Day_Of_Week\",\"Date\",\"Page_Loads\",\"Unique_Visits\",\"First_Time_Visits\",\n",
    "      \"Returning_Visits\"]"
   ]
  },
  {
   "cell_type": "code",
   "execution_count": 27,
   "id": "8ef6ce1c",
   "metadata": {
    "ExecuteTime": {
     "end_time": "2023-11-25T12:50:28.683347Z",
     "start_time": "2023-11-25T12:50:28.647369Z"
    }
   },
   "outputs": [],
   "source": [
    "df=df.withColumnsRenamed({\"Day.Of.Week\":\"Day_Of_Week\",\"Page.Loads\":\"Page_Loads\",\n",
    "                          \"Unique.Visits\":\"Unique_Visits\",\"First.Time.Visits\":\"First_Time_Visits\",\n",
    "                          \"Returning.Visits\":\"Returning_Visits\"})"
   ]
  },
  {
   "cell_type": "code",
   "execution_count": 28,
   "id": "b4279146",
   "metadata": {
    "ExecuteTime": {
     "end_time": "2023-11-25T12:50:38.632303Z",
     "start_time": "2023-11-25T12:50:38.228919Z"
    }
   },
   "outputs": [
    {
     "name": "stdout",
     "output_type": "stream",
     "text": [
      "+---+---------+-----------+----------+----------+-------------+-----------------+----------------+\n",
      "|Row|      Day|Day_Of_Week|      Date|Page_Loads|Unique_Visits|First_Time_Visits|Returning_Visits|\n",
      "+---+---------+-----------+----------+----------+-------------+-----------------+----------------+\n",
      "|  1|   Sunday|          1| 9/14/2014|      2146|         1582|             1430|             152|\n",
      "|  2|   Monday|          2| 9/15/2014|      3621|         2528|             2297|             231|\n",
      "|  3|  Tuesday|          3| 9/16/2014|      3698|         2630|             2352|             278|\n",
      "|  4|Wednesday|          4| 9/17/2014|      3667|         2614|             2327|             287|\n",
      "|  5| Thursday|          5| 9/18/2014|      3316|         2366|             2130|             236|\n",
      "|  6|   Friday|          6| 9/19/2014|      2815|         1863|             1622|             241|\n",
      "|  7| Saturday|          7| 9/20/2014|      1658|         1118|              985|             133|\n",
      "|  8|   Sunday|          1| 9/21/2014|      2288|         1656|             1481|             175|\n",
      "|  9|   Monday|          2| 9/22/2014|      3638|         2586|             2312|             274|\n",
      "| 10|  Tuesday|          3| 9/23/2014|      4462|         3257|             2989|             268|\n",
      "| 11|Wednesday|          4| 9/24/2014|      4414|         3175|             2891|             284|\n",
      "| 12| Thursday|          5| 9/25/2014|      4315|         3029|             2743|             286|\n",
      "| 13|   Friday|          6| 9/26/2014|      3323|         2249|             2033|             216|\n",
      "| 14| Saturday|          7| 9/27/2014|      1656|         1180|             1040|             140|\n",
      "| 15|   Sunday|          1| 9/28/2014|      2465|         1806|             1613|             193|\n",
      "| 16|   Monday|          2| 9/29/2014|      4096|         2873|             2577|             296|\n",
      "| 17|  Tuesday|          3| 9/30/2014|      4474|         3032|             2720|             312|\n",
      "| 18|Wednesday|          4|10-01-2014|      4124|         2849|             2541|             308|\n",
      "| 19| Thursday|          5|10-02-2014|      3514|         2489|             2239|             250|\n",
      "| 20|   Friday|          6|10-03-2014|      3005|         2097|             1856|             241|\n",
      "+---+---------+-----------+----------+----------+-------------+-----------------+----------------+\n",
      "only showing top 20 rows\n",
      "\n"
     ]
    }
   ],
   "source": [
    "df.show()"
   ]
  },
  {
   "cell_type": "markdown",
   "id": "8b5a65b8",
   "metadata": {},
   "source": [
    "# Pyspark Transformation \n",
    "\n",
    "Pyspark transformation are lazy in nature meaning they do not execute until actions are called."
   ]
  },
  {
   "cell_type": "code",
   "execution_count": 29,
   "id": "34f3140a",
   "metadata": {
    "ExecuteTime": {
     "end_time": "2023-11-25T12:50:50.087509Z",
     "start_time": "2023-11-25T12:50:48.402605Z"
    }
   },
   "outputs": [
    {
     "name": "stdout",
     "output_type": "stream",
     "text": [
      "+------------------+------------------+\n",
      "|   avg(Page_Loads)|avg(Unique_Visits)|\n",
      "+------------------+------------------+\n",
      "|4116.9893862482695|2943.6465159206277|\n",
      "+------------------+------------------+\n",
      "\n"
     ]
    }
   ],
   "source": [
    "from pyspark.sql.functions import mean, col, max \n",
    "\n",
    "# calculate mean \n",
    "df2=df.select(mean(\"Page_Loads\"),mean(\"Unique_Visits\"))\n",
    "df2.show()"
   ]
  },
  {
   "cell_type": "code",
   "execution_count": 30,
   "id": "2c4eb941",
   "metadata": {
    "ExecuteTime": {
     "end_time": "2023-11-25T12:54:24.255586Z",
     "start_time": "2023-11-25T12:54:22.092704Z"
    }
   },
   "outputs": [
    {
     "name": "stdout",
     "output_type": "stream",
     "text": [
      "+---------+------------------+------------------+----------------------+---------------------+\n",
      "|      Day|   avg(Page_Loads)|avg(Unique_Visits)|avg(First_Time_Visits)|avg(Returning_Visits)|\n",
      "+---------+------------------+------------------+----------------------+---------------------+\n",
      "|Wednesday| 4893.916129032258|3502.0129032258064|     2895.490322580645|    606.5225806451613|\n",
      "|  Tuesday| 4955.335483870967| 3539.293548387097|     2928.232258064516|    611.0612903225806|\n",
      "|   Friday|3719.8608414239484| 2646.770226537217|    2164.4174757281553|    482.3527508090615|\n",
      "| Thursday| 4651.355987055016|3327.5533980582522|    2747.3171521035597|    580.2362459546925|\n",
      "| Saturday|2501.0258899676373|1786.7475728155339|    1477.1812297734627|    309.5663430420712|\n",
      "|   Monday|  4845.68064516129| 3458.425806451613|      2858.18064516129|    600.2451612903226|\n",
      "|   Sunday|3246.9806451612903|2341.2709677419357|    1949.0258064516129|    392.2451612903226|\n",
      "+---------+------------------+------------------+----------------------+---------------------+\n",
      "\n"
     ]
    }
   ],
   "source": [
    "# Group by statement \n",
    "df.groupBy(\"Day\").agg(mean(\"Page_Loads\"),mean(\"Unique_Visits\"),mean(\"First_Time_Visits\"),\n",
    "                     mean(\"Returning_Visits\")).show()"
   ]
  },
  {
   "cell_type": "markdown",
   "id": "460096ba",
   "metadata": {},
   "source": [
    "# PySpark SQL Compatible \n",
    "\n",
    "pyspark supports sql queries to run transformations. All you need to do is create a table/ view from the pyspark dataframe."
   ]
  },
  {
   "cell_type": "code",
   "execution_count": 38,
   "id": "3a674b3d",
   "metadata": {
    "ExecuteTime": {
     "end_time": "2023-11-25T13:00:05.098162Z",
     "start_time": "2023-11-25T13:00:04.689792Z"
    }
   },
   "outputs": [
    {
     "name": "stdout",
     "output_type": "stream",
     "text": [
      "+----+---------+-----------+----------+----------+-------------+-----------------+----------------+\n",
      "| Row|      Day|Day_Of_Week|      Date|Page_Loads|Unique_Visits|First_Time_Visits|Returning_Visits|\n",
      "+----+---------+-----------+----------+----------+-------------+-----------------+----------------+\n",
      "| 808|  Tuesday|          3|11/29/2016|      7714|         5338|             4369|             969|\n",
      "|1318|   Monday|          2| 4/23/2018|      7605|         5124|             4216|             908|\n",
      "|1319|  Tuesday|          3| 4/24/2018|      7614|         5094|             4181|             913|\n",
      "|1320|Wednesday|          4| 4/25/2018|      7984|         5541|             4616|             925|\n",
      "|1536|  Tuesday|          3|11/27/2018|      7503|         5181|             4267|             914|\n",
      "|1537|Wednesday|          4|11/28/2018|      7554|         5227|             4330|             897|\n",
      "|1542|   Monday|          2|12-03-2018|      7650|         5378|             4431|             947|\n",
      "|1549|   Monday|          2|12-10-2018|      7840|         5421|             4465|             956|\n",
      "|1550|  Tuesday|          3|12-11-2018|      7659|         5267|             4330|             937|\n",
      "+----+---------+-----------+----------+----------+-------------+-----------------+----------------+\n",
      "\n"
     ]
    }
   ],
   "source": [
    "df.createOrReplaceTempView(\"Week\")\n",
    "spark.sql(\"select * from Week where Page_Loads > 7500\").show()"
   ]
  },
  {
   "cell_type": "code",
   "execution_count": 41,
   "id": "cb7b2328",
   "metadata": {
    "ExecuteTime": {
     "end_time": "2023-11-25T13:02:05.225003Z",
     "start_time": "2023-11-25T13:02:04.458663Z"
    }
   },
   "outputs": [
    {
     "name": "stdout",
     "output_type": "stream",
     "text": [
      "+---------+------------------+\n",
      "|      Day|     avg_page_load|\n",
      "+---------+------------------+\n",
      "|Wednesday| 4893.916129032258|\n",
      "|  Tuesday| 4955.335483870967|\n",
      "|   Friday|3719.8608414239484|\n",
      "| Thursday| 4651.355987055016|\n",
      "| Saturday|2501.0258899676373|\n",
      "|   Monday|  4845.68064516129|\n",
      "|   Sunday|3246.9806451612903|\n",
      "+---------+------------------+\n",
      "\n"
     ]
    }
   ],
   "source": [
    "spark.sql(\"select Day, mean(Page_Loads) as avg_page_load from Week group by day\").show()"
   ]
  },
  {
   "cell_type": "markdown",
   "id": "46531729",
   "metadata": {},
   "source": [
    "# Create PySpark dataframe from pandas  "
   ]
  },
  {
   "cell_type": "code",
   "execution_count": 45,
   "id": "c31469de",
   "metadata": {
    "ExecuteTime": {
     "end_time": "2023-11-25T13:07:12.645623Z",
     "start_time": "2023-11-25T13:07:12.229244Z"
    }
   },
   "outputs": [
    {
     "name": "stdout",
     "output_type": "stream",
     "text": [
      "   Row        Day  Day.Of.Week       Date  Page.Loads  Unique.Visits  \\\n",
      "0    1     Sunday            1  9/14/2014        2146           1582   \n",
      "1    2     Monday            2  9/15/2014        3621           2528   \n",
      "2    3    Tuesday            3  9/16/2014        3698           2630   \n",
      "3    4  Wednesday            4  9/17/2014        3667           2614   \n",
      "4    5   Thursday            5  9/18/2014        3316           2366   \n",
      "\n",
      "   First.Time.Visits  Returning.Visits  \n",
      "0               1430               152  \n",
      "1               2297               231  \n",
      "2               2352               278  \n",
      "3               2327               287  \n",
      "4               2130               236  \n",
      "root\n",
      " |-- Row: long (nullable = true)\n",
      " |-- Day: string (nullable = true)\n",
      " |-- Day.Of.Week: long (nullable = true)\n",
      " |-- Date: string (nullable = true)\n",
      " |-- Page.Loads: long (nullable = true)\n",
      " |-- Unique.Visits: long (nullable = true)\n",
      " |-- First.Time.Visits: long (nullable = true)\n",
      " |-- Returning.Visits: long (nullable = true)\n",
      "\n"
     ]
    }
   ],
   "source": [
    "import pandas as pd \n",
    "daily_web_visitor= pd.read_csv(file_path)\n",
    "print(daily_web_visitor.head(5))\n",
    "\n",
    "# Create Pyspark dataframe from pandas \n",
    "\n",
    "spark_daily_web_visitor= spark.createDataFrame(daily_web_visitor)\n",
    "spark_daily_web_visitor.printSchema()"
   ]
  },
  {
   "cell_type": "markdown",
   "id": "66583d1a",
   "metadata": {},
   "source": [
    "# Create Pandas from pyspark dataframe\n",
    "\n",
    "Note: `toPandas()` method  is an action that collects the data into spark drive memory so you have to be very careful while dealing with large datasets. You will get outOfMemoryException if the collected data doesn't it in the spark drive memory."
   ]
  },
  {
   "cell_type": "code",
   "execution_count": 48,
   "id": "3b061958",
   "metadata": {
    "ExecuteTime": {
     "end_time": "2023-11-25T13:17:15.941982Z",
     "start_time": "2023-11-25T13:17:15.624703Z"
    }
   },
   "outputs": [
    {
     "data": {
      "text/html": [
       "<div>\n",
       "<style scoped>\n",
       "    .dataframe tbody tr th:only-of-type {\n",
       "        vertical-align: middle;\n",
       "    }\n",
       "\n",
       "    .dataframe tbody tr th {\n",
       "        vertical-align: top;\n",
       "    }\n",
       "\n",
       "    .dataframe thead th {\n",
       "        text-align: right;\n",
       "    }\n",
       "</style>\n",
       "<table border=\"1\" class=\"dataframe\">\n",
       "  <thead>\n",
       "    <tr style=\"text-align: right;\">\n",
       "      <th></th>\n",
       "      <th>Row</th>\n",
       "      <th>Day</th>\n",
       "      <th>Day_Of_Week</th>\n",
       "      <th>Date</th>\n",
       "      <th>Page_Loads</th>\n",
       "      <th>Unique_Visits</th>\n",
       "      <th>First_Time_Visits</th>\n",
       "      <th>Returning_Visits</th>\n",
       "    </tr>\n",
       "  </thead>\n",
       "  <tbody>\n",
       "    <tr>\n",
       "      <th>0</th>\n",
       "      <td>1</td>\n",
       "      <td>Sunday</td>\n",
       "      <td>1</td>\n",
       "      <td>9/14/2014</td>\n",
       "      <td>2146</td>\n",
       "      <td>1582</td>\n",
       "      <td>1430</td>\n",
       "      <td>152</td>\n",
       "    </tr>\n",
       "    <tr>\n",
       "      <th>1</th>\n",
       "      <td>2</td>\n",
       "      <td>Monday</td>\n",
       "      <td>2</td>\n",
       "      <td>9/15/2014</td>\n",
       "      <td>3621</td>\n",
       "      <td>2528</td>\n",
       "      <td>2297</td>\n",
       "      <td>231</td>\n",
       "    </tr>\n",
       "    <tr>\n",
       "      <th>2</th>\n",
       "      <td>3</td>\n",
       "      <td>Tuesday</td>\n",
       "      <td>3</td>\n",
       "      <td>9/16/2014</td>\n",
       "      <td>3698</td>\n",
       "      <td>2630</td>\n",
       "      <td>2352</td>\n",
       "      <td>278</td>\n",
       "    </tr>\n",
       "    <tr>\n",
       "      <th>3</th>\n",
       "      <td>4</td>\n",
       "      <td>Wednesday</td>\n",
       "      <td>4</td>\n",
       "      <td>9/17/2014</td>\n",
       "      <td>3667</td>\n",
       "      <td>2614</td>\n",
       "      <td>2327</td>\n",
       "      <td>287</td>\n",
       "    </tr>\n",
       "    <tr>\n",
       "      <th>4</th>\n",
       "      <td>5</td>\n",
       "      <td>Thursday</td>\n",
       "      <td>5</td>\n",
       "      <td>9/18/2014</td>\n",
       "      <td>3316</td>\n",
       "      <td>2366</td>\n",
       "      <td>2130</td>\n",
       "      <td>236</td>\n",
       "    </tr>\n",
       "  </tbody>\n",
       "</table>\n",
       "</div>"
      ],
      "text/plain": [
       "   Row        Day  Day_Of_Week       Date  Page_Loads  Unique_Visits  \\\n",
       "0    1     Sunday            1  9/14/2014        2146           1582   \n",
       "1    2     Monday            2  9/15/2014        3621           2528   \n",
       "2    3    Tuesday            3  9/16/2014        3698           2630   \n",
       "3    4  Wednesday            4  9/17/2014        3667           2614   \n",
       "4    5   Thursday            5  9/18/2014        3316           2366   \n",
       "\n",
       "   First_Time_Visits  Returning_Visits  \n",
       "0               1430               152  \n",
       "1               2297               231  \n",
       "2               2352               278  \n",
       "3               2327               287  \n",
       "4               2130               236  "
      ]
     },
     "execution_count": 48,
     "metadata": {},
     "output_type": "execute_result"
    }
   ],
   "source": [
    "# Convert pyspark to pandas \n",
    "pandasdf=df.toPandas()\n",
    "pandasdf.head()"
   ]
  },
  {
   "cell_type": "markdown",
   "id": "45911e6b",
   "metadata": {},
   "source": [
    "# Create Empty RDD in Pyspark"
   ]
  },
  {
   "cell_type": "code",
   "execution_count": 49,
   "id": "871ff5ba",
   "metadata": {
    "ExecuteTime": {
     "end_time": "2023-11-25T14:44:30.545731Z",
     "start_time": "2023-11-25T14:44:27.484750Z"
    }
   },
   "outputs": [
    {
     "name": "stdout",
     "output_type": "stream",
     "text": [
      "EmptyRDD[161] at emptyRDD at NativeMethodAccessorImpl.java:0\n"
     ]
    }
   ],
   "source": [
    "from pyspark.sql import SparkSession\n",
    "sp= SparkSession.builder.appName(\"Spark.com\").getOrCreate()\n",
    "\n",
    "# create empty RDD\n",
    "emptyRDD= sp.sparkContext.emptyRDD()\n",
    "print(emptyRDD)"
   ]
  },
  {
   "cell_type": "markdown",
   "id": "89c5d7b0",
   "metadata": {},
   "source": [
    "Alternatively use, parallelize ."
   ]
  },
  {
   "cell_type": "code",
   "execution_count": 51,
   "id": "5b74f9d7",
   "metadata": {
    "ExecuteTime": {
     "end_time": "2023-11-25T14:46:18.631961Z",
     "start_time": "2023-11-25T14:46:17.974634Z"
    }
   },
   "outputs": [
    {
     "name": "stdout",
     "output_type": "stream",
     "text": [
      "ParallelCollectionRDD[162] at readRDDFromFile at PythonRDD.scala:289\n"
     ]
    }
   ],
   "source": [
    "# creates empty RDD using parallelize \n",
    "rdd2=sp.sparkContext.parallelize([])\n",
    "print(rdd2)"
   ]
  },
  {
   "cell_type": "markdown",
   "id": "35bfaf86",
   "metadata": {},
   "source": [
    "Note: If you try to perform operations on empty RDD you going get `ValueError(\"RDD is empty\")`."
   ]
  },
  {
   "cell_type": "markdown",
   "id": "c801996a",
   "metadata": {},
   "source": [
    "# Create Empty Dataframe with Schema (StructType)\n",
    "\n",
    "In order to create an empty pyspark dataframe manually with schema (column names and type) first, create a schema using StructType and StructField."
   ]
  },
  {
   "cell_type": "code",
   "execution_count": 53,
   "id": "5e40c87e",
   "metadata": {
    "ExecuteTime": {
     "end_time": "2023-11-25T14:54:37.124604Z",
     "start_time": "2023-11-25T14:54:37.117606Z"
    }
   },
   "outputs": [],
   "source": [
    "# create schema \n",
    "from pyspark.sql.types import StructType, StructField, StringType\n",
    "schema= StructType([\n",
    "    StructField('firstname',StringType(),True),\n",
    "    StructField('middlename',StringType(),True),\n",
    "    StructField('lastname',StringType(),True)\n",
    "])"
   ]
  },
  {
   "cell_type": "markdown",
   "id": "bc87d409",
   "metadata": {
    "ExecuteTime": {
     "end_time": "2023-11-25T14:54:42.480759Z",
     "start_time": "2023-11-25T14:54:42.457772Z"
    }
   },
   "source": [
    "Now, use the empty RDD created above and pass it to `createDataFrame()` of sparksesion along with the shema for column names and types."
   ]
  },
  {
   "cell_type": "code",
   "execution_count": 56,
   "id": "661997f3",
   "metadata": {
    "ExecuteTime": {
     "end_time": "2023-11-25T14:58:43.983187Z",
     "start_time": "2023-11-25T14:58:43.552177Z"
    }
   },
   "outputs": [
    {
     "name": "stdout",
     "output_type": "stream",
     "text": [
      "root\n",
      " |-- firstname: string (nullable = true)\n",
      " |-- middlename: string (nullable = true)\n",
      " |-- lastname: string (nullable = true)\n",
      "\n"
     ]
    }
   ],
   "source": [
    "# create empty dataframe from empty RDD\n",
    "a= sp.createDataFrame(emptyRDD,schema)\n",
    "a.printSchema()"
   ]
  },
  {
   "cell_type": "markdown",
   "id": "3461b5ab",
   "metadata": {},
   "source": [
    "# Convert empty RDD to Dataframe"
   ]
  },
  {
   "cell_type": "code",
   "execution_count": 57,
   "id": "94ce3249",
   "metadata": {
    "ExecuteTime": {
     "end_time": "2023-11-25T15:00:01.798469Z",
     "start_time": "2023-11-25T15:00:01.288963Z"
    }
   },
   "outputs": [
    {
     "name": "stdout",
     "output_type": "stream",
     "text": [
      "root\n",
      " |-- firstname: string (nullable = true)\n",
      " |-- middlename: string (nullable = true)\n",
      " |-- lastname: string (nullable = true)\n",
      "\n"
     ]
    }
   ],
   "source": [
    "a1=emptyRDD.toDF(schema)\n",
    "a1.printSchema()"
   ]
  },
  {
   "cell_type": "markdown",
   "id": "67543ab0",
   "metadata": {},
   "source": [
    "# Create Empty Dataframe with Schema "
   ]
  },
  {
   "cell_type": "code",
   "execution_count": 59,
   "id": "8ab491e1",
   "metadata": {
    "ExecuteTime": {
     "end_time": "2023-11-25T15:04:38.893993Z",
     "start_time": "2023-11-25T15:04:38.667705Z"
    }
   },
   "outputs": [
    {
     "data": {
      "text/plain": [
       "<bound method DataFrame.printSchema of DataFrame[firstname: string, middlename: string, lastname: string]>"
      ]
     },
     "execution_count": 59,
     "metadata": {},
     "output_type": "execute_result"
    }
   ],
   "source": [
    "a2=sp.createDataFrame([],schema)\n",
    "a2.printSchema"
   ]
  },
  {
   "cell_type": "markdown",
   "id": "2825fd1c",
   "metadata": {},
   "source": [
    "# Create Empty df without schema (no columns)"
   ]
  },
  {
   "cell_type": "code",
   "execution_count": 60,
   "id": "80be2367",
   "metadata": {
    "ExecuteTime": {
     "end_time": "2023-11-25T15:06:32.187329Z",
     "start_time": "2023-11-25T15:06:31.858273Z"
    }
   },
   "outputs": [
    {
     "name": "stdout",
     "output_type": "stream",
     "text": [
      "root\n",
      "\n"
     ]
    }
   ],
   "source": [
    "a3= sp.createDataFrame([],StructType([]))\n",
    "a3.printSchema()"
   ]
  },
  {
   "cell_type": "markdown",
   "id": "bb4ff9cd",
   "metadata": {},
   "source": [
    "# PySpark show() - Display dataframe contents in table. "
   ]
  },
  {
   "cell_type": "code",
   "execution_count": 70,
   "id": "4e73adf5",
   "metadata": {
    "ExecuteTime": {
     "end_time": "2023-11-25T15:40:13.896274Z",
     "start_time": "2023-11-25T15:40:12.812703Z"
    }
   },
   "outputs": [
    {
     "name": "stdout",
     "output_type": "stream",
     "text": [
      "+---+---------+-----------+----------+----------+-------------+-----------------+----------------+\n",
      "|Row|      Day|Day_Of_Week|      Date|Page_Loads|Unique_Visits|First_Time_Visits|Returning_Visits|\n",
      "+---+---------+-----------+----------+----------+-------------+-----------------+----------------+\n",
      "|  1|   Sunday|          1| 9/14/2014|      2146|         1582|             1430|             152|\n",
      "|  2|   Monday|          2| 9/15/2014|      3621|         2528|             2297|             231|\n",
      "|  3|  Tuesday|          3| 9/16/2014|      3698|         2630|             2352|             278|\n",
      "|  4|Wednesday|          4| 9/17/2014|      3667|         2614|             2327|             287|\n",
      "|  5| Thursday|          5| 9/18/2014|      3316|         2366|             2130|             236|\n",
      "|  6|   Friday|          6| 9/19/2014|      2815|         1863|             1622|             241|\n",
      "|  7| Saturday|          7| 9/20/2014|      1658|         1118|              985|             133|\n",
      "|  8|   Sunday|          1| 9/21/2014|      2288|         1656|             1481|             175|\n",
      "|  9|   Monday|          2| 9/22/2014|      3638|         2586|             2312|             274|\n",
      "| 10|  Tuesday|          3| 9/23/2014|      4462|         3257|             2989|             268|\n",
      "| 11|Wednesday|          4| 9/24/2014|      4414|         3175|             2891|             284|\n",
      "| 12| Thursday|          5| 9/25/2014|      4315|         3029|             2743|             286|\n",
      "| 13|   Friday|          6| 9/26/2014|      3323|         2249|             2033|             216|\n",
      "| 14| Saturday|          7| 9/27/2014|      1656|         1180|             1040|             140|\n",
      "| 15|   Sunday|          1| 9/28/2014|      2465|         1806|             1613|             193|\n",
      "| 16|   Monday|          2| 9/29/2014|      4096|         2873|             2577|             296|\n",
      "| 17|  Tuesday|          3| 9/30/2014|      4474|         3032|             2720|             312|\n",
      "| 18|Wednesday|          4|10-01-2014|      4124|         2849|             2541|             308|\n",
      "| 19| Thursday|          5|10-02-2014|      3514|         2489|             2239|             250|\n",
      "| 20|   Friday|          6|10-03-2014|      3005|         2097|             1856|             241|\n",
      "+---+---------+-----------+----------+----------+-------------+-----------------+----------------+\n",
      "only showing top 20 rows\n",
      "\n"
     ]
    }
   ],
   "source": [
    "# default -displays 20 rows and 20 characters from column value \n",
    "df.show()"
   ]
  },
  {
   "cell_type": "code",
   "execution_count": 71,
   "id": "cf7dbe90",
   "metadata": {
    "ExecuteTime": {
     "end_time": "2023-11-25T15:40:32.609489Z",
     "start_time": "2023-11-25T15:40:32.095289Z"
    }
   },
   "outputs": [
    {
     "name": "stdout",
     "output_type": "stream",
     "text": [
      "+---+---------+-----------+----------+----------+-------------+-----------------+----------------+\n",
      "|Row|Day      |Day_Of_Week|Date      |Page_Loads|Unique_Visits|First_Time_Visits|Returning_Visits|\n",
      "+---+---------+-----------+----------+----------+-------------+-----------------+----------------+\n",
      "|1  |Sunday   |1          |9/14/2014 |2146      |1582         |1430             |152             |\n",
      "|2  |Monday   |2          |9/15/2014 |3621      |2528         |2297             |231             |\n",
      "|3  |Tuesday  |3          |9/16/2014 |3698      |2630         |2352             |278             |\n",
      "|4  |Wednesday|4          |9/17/2014 |3667      |2614         |2327             |287             |\n",
      "|5  |Thursday |5          |9/18/2014 |3316      |2366         |2130             |236             |\n",
      "|6  |Friday   |6          |9/19/2014 |2815      |1863         |1622             |241             |\n",
      "|7  |Saturday |7          |9/20/2014 |1658      |1118         |985              |133             |\n",
      "|8  |Sunday   |1          |9/21/2014 |2288      |1656         |1481             |175             |\n",
      "|9  |Monday   |2          |9/22/2014 |3638      |2586         |2312             |274             |\n",
      "|10 |Tuesday  |3          |9/23/2014 |4462      |3257         |2989             |268             |\n",
      "|11 |Wednesday|4          |9/24/2014 |4414      |3175         |2891             |284             |\n",
      "|12 |Thursday |5          |9/25/2014 |4315      |3029         |2743             |286             |\n",
      "|13 |Friday   |6          |9/26/2014 |3323      |2249         |2033             |216             |\n",
      "|14 |Saturday |7          |9/27/2014 |1656      |1180         |1040             |140             |\n",
      "|15 |Sunday   |1          |9/28/2014 |2465      |1806         |1613             |193             |\n",
      "|16 |Monday   |2          |9/29/2014 |4096      |2873         |2577             |296             |\n",
      "|17 |Tuesday  |3          |9/30/2014 |4474      |3032         |2720             |312             |\n",
      "|18 |Wednesday|4          |10-01-2014|4124      |2849         |2541             |308             |\n",
      "|19 |Thursday |5          |10-02-2014|3514      |2489         |2239             |250             |\n",
      "|20 |Friday   |6          |10-03-2014|3005      |2097         |1856             |241             |\n",
      "+---+---------+-----------+----------+----------+-------------+-----------------+----------------+\n",
      "only showing top 20 rows\n",
      "\n"
     ]
    }
   ],
   "source": [
    "# display full column contents\n",
    "df.show(truncate=False)"
   ]
  },
  {
   "cell_type": "code",
   "execution_count": 72,
   "id": "c71266ad",
   "metadata": {
    "ExecuteTime": {
     "end_time": "2023-11-25T15:40:53.682258Z",
     "start_time": "2023-11-25T15:40:53.232897Z"
    }
   },
   "outputs": [
    {
     "name": "stdout",
     "output_type": "stream",
     "text": [
      "+---+------+-----------+---------+----------+-------------+-----------------+----------------+\n",
      "|Row|Day   |Day_Of_Week|Date     |Page_Loads|Unique_Visits|First_Time_Visits|Returning_Visits|\n",
      "+---+------+-----------+---------+----------+-------------+-----------------+----------------+\n",
      "|1  |Sunday|1          |9/14/2014|2146      |1582         |1430             |152             |\n",
      "|2  |Monday|2          |9/15/2014|3621      |2528         |2297             |231             |\n",
      "+---+------+-----------+---------+----------+-------------+-----------------+----------------+\n",
      "only showing top 2 rows\n",
      "\n"
     ]
    }
   ],
   "source": [
    "# Display 2 rows and full column contents\n",
    "df.show(2,truncate=False)"
   ]
  },
  {
   "cell_type": "code",
   "execution_count": 73,
   "id": "ba5cd2ab",
   "metadata": {
    "ExecuteTime": {
     "end_time": "2023-11-25T15:40:59.871229Z",
     "start_time": "2023-11-25T15:40:59.498637Z"
    }
   },
   "outputs": [
    {
     "name": "stdout",
     "output_type": "stream",
     "text": [
      "-RECORD 0----------------------\n",
      " Row               | 1         \n",
      " Day               | Sunday    \n",
      " Day_Of_Week       | 1         \n",
      " Date              | 9/14/2014 \n",
      " Page_Loads        | 2146      \n",
      " Unique_Visits     | 1582      \n",
      " First_Time_Visits | 1430      \n",
      " Returning_Visits  | 152       \n",
      "-RECORD 1----------------------\n",
      " Row               | 2         \n",
      " Day               | Monday    \n",
      " Day_Of_Week       | 2         \n",
      " Date              | 9/15/2014 \n",
      " Page_Loads        | 3621      \n",
      " Unique_Visits     | 2528      \n",
      " First_Time_Visits | 2297      \n",
      " Returning_Visits  | 231       \n",
      "-RECORD 2----------------------\n",
      " Row               | 3         \n",
      " Day               | Tuesday   \n",
      " Day_Of_Week       | 3         \n",
      " Date              | 9/16/2014 \n",
      " Page_Loads        | 3698      \n",
      " Unique_Visits     | 2630      \n",
      " First_Time_Visits | 2352      \n",
      " Returning_Visits  | 278       \n",
      "only showing top 3 rows\n",
      "\n"
     ]
    }
   ],
   "source": [
    "# Display dataframe rows and columns vertically\n",
    "df.show(n=3,truncate=25,vertical=True)"
   ]
  },
  {
   "cell_type": "code",
   "execution_count": null,
   "id": "0eb09944",
   "metadata": {},
   "outputs": [],
   "source": [
    "# Syntax\n",
    "show(self, n=20,truncate=True, vertical=False)"
   ]
  },
  {
   "cell_type": "code",
   "execution_count": null,
   "id": "dd5d40c3",
   "metadata": {},
   "outputs": [],
   "source": []
  }
 ],
 "metadata": {
  "hide_input": false,
  "kernelspec": {
   "display_name": "Python 3 (ipykernel)",
   "language": "python",
   "name": "python3"
  },
  "language_info": {
   "codemirror_mode": {
    "name": "ipython",
    "version": 3
   },
   "file_extension": ".py",
   "mimetype": "text/x-python",
   "name": "python",
   "nbconvert_exporter": "python",
   "pygments_lexer": "ipython3",
   "version": "3.9.7"
  }
 },
 "nbformat": 4,
 "nbformat_minor": 5
}

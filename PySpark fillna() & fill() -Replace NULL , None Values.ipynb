{
 "cells": [
  {
   "cell_type": "code",
   "execution_count": 1,
   "id": "a4510899",
   "metadata": {
    "ExecuteTime": {
     "end_time": "2023-12-02T11:57:17.084326Z",
     "start_time": "2023-12-02T11:56:21.493541Z"
    }
   },
   "outputs": [
    {
     "name": "stdout",
     "output_type": "stream",
     "text": [
      "root\n",
      " |-- id: integer (nullable = true)\n",
      " |-- zipcode: integer (nullable = true)\n",
      " |-- type: string (nullable = true)\n",
      " |-- city: string (nullable = true)\n",
      " |-- state: string (nullable = true)\n",
      " |-- population: integer (nullable = true)\n",
      "\n",
      "+---+-------+--------+-------+-----+----------+\n",
      "| id|zipcode|    type|   city|state|population|\n",
      "+---+-------+--------+-------+-----+----------+\n",
      "|  1|    704|standard|   NULL|   MH|     30100|\n",
      "|  2|    708|    NULL|   pune|   MH|      NULL|\n",
      "|  3|    709|    NULL|phaltan|   MH|      3700|\n",
      "|  4|  76166|  unique| satara|   MH|     84000|\n",
      "|  5|  76177|standard|   NULL|   TN|      NULL|\n",
      "+---+-------+--------+-------+-----+----------+\n",
      "\n"
     ]
    }
   ],
   "source": [
    "from pyspark.sql import SparkSession\n",
    "spark=SparkSession.builder.appName(\"SP\").getOrCreate()\n",
    "\n",
    "file_path=\"C:/Users/pcc/Desktop/Temp.csv\"\n",
    "df=spark.read.csv(file_path,header=True,inferSchema=True)\n",
    "df.printSchema()\n",
    "df.show()"
   ]
  },
  {
   "cell_type": "markdown",
   "id": "6d37ccd5",
   "metadata": {},
   "source": [
    "# PySpark fillna() & fill() Syntax\n"
   ]
  },
  {
   "cell_type": "code",
   "execution_count": 2,
   "id": "6b7b8f8a",
   "metadata": {
    "ExecuteTime": {
     "end_time": "2023-12-02T11:57:47.762329Z",
     "start_time": "2023-12-02T11:57:47.131749Z"
    }
   },
   "outputs": [
    {
     "name": "stdout",
     "output_type": "stream",
     "text": [
      "+---+-------+--------+-------+-----+----------+\n",
      "| id|zipcode|    type|   city|state|population|\n",
      "+---+-------+--------+-------+-----+----------+\n",
      "|  1|    704|standard|   NULL|   MH|     30100|\n",
      "|  2|    708|    NULL|   pune|   MH|         0|\n",
      "|  3|    709|    NULL|phaltan|   MH|      3700|\n",
      "|  4|  76166|  unique| satara|   MH|     84000|\n",
      "|  5|  76177|standard|   NULL|   TN|         0|\n",
      "+---+-------+--------+-------+-----+----------+\n",
      "\n"
     ]
    }
   ],
   "source": [
    "# Replace 0 for null  for all  integer column\n",
    "df.na.fill(value=0).show()"
   ]
  },
  {
   "cell_type": "code",
   "execution_count": 3,
   "id": "299e6e48",
   "metadata": {
    "ExecuteTime": {
     "end_time": "2023-12-02T11:58:50.602814Z",
     "start_time": "2023-12-02T11:58:50.115322Z"
    }
   },
   "outputs": [
    {
     "name": "stdout",
     "output_type": "stream",
     "text": [
      "+---+-------+--------+-------+-----+----------+\n",
      "| id|zipcode|    type|   city|state|population|\n",
      "+---+-------+--------+-------+-----+----------+\n",
      "|  1|    704|standard|   NULL|   MH|     30100|\n",
      "|  2|    708|    NULL|   pune|   MH|         0|\n",
      "|  3|    709|    NULL|phaltan|   MH|      3700|\n",
      "|  4|  76166|  unique| satara|   MH|     84000|\n",
      "|  5|  76177|standard|   NULL|   TN|         0|\n",
      "+---+-------+--------+-------+-----+----------+\n",
      "\n"
     ]
    }
   ],
   "source": [
    "# Replace 0 for null on only population column\n",
    "df.na.fill(value=0,subset=[\"population\"]).show()"
   ]
  },
  {
   "cell_type": "code",
   "execution_count": 6,
   "id": "acc1f2c8",
   "metadata": {
    "ExecuteTime": {
     "end_time": "2023-12-02T12:02:35.536641Z",
     "start_time": "2023-12-02T12:02:35.047470Z"
    }
   },
   "outputs": [
    {
     "name": "stdout",
     "output_type": "stream",
     "text": [
      "+---+-------+--------+-------+-----+----------+\n",
      "| id|zipcode|    type|   city|state|population|\n",
      "+---+-------+--------+-------+-----+----------+\n",
      "|  1|    704|standard|       |   MH|     30100|\n",
      "|  2|    708|        |   pune|   MH|      NULL|\n",
      "|  3|    709|        |phaltan|   MH|      3700|\n",
      "|  4|  76166|  unique| satara|   MH|     84000|\n",
      "|  5|  76177|standard|       |   TN|      NULL|\n",
      "+---+-------+--------+-------+-----+----------+\n",
      "\n"
     ]
    }
   ],
   "source": [
    "df.na.fill(\"\").show()"
   ]
  },
  {
   "cell_type": "code",
   "execution_count": 8,
   "id": "a1bf9a0b",
   "metadata": {
    "ExecuteTime": {
     "end_time": "2023-12-02T12:05:54.466538Z",
     "start_time": "2023-12-02T12:05:53.997335Z"
    }
   },
   "outputs": [
    {
     "name": "stdout",
     "output_type": "stream",
     "text": [
      "+---+-------+--------+-------+-----+----------+\n",
      "| id|zipcode|    type|   city|state|population|\n",
      "+---+-------+--------+-------+-----+----------+\n",
      "|  1|    704|standard|unknown|   MH|     30100|\n",
      "|  2|    708|        |   pune|   MH|      NULL|\n",
      "|  3|    709|        |phaltan|   MH|      3700|\n",
      "|  4|  76166|  unique| satara|   MH|     84000|\n",
      "|  5|  76177|standard|unknown|   TN|      NULL|\n",
      "+---+-------+--------+-------+-----+----------+\n",
      "\n"
     ]
    }
   ],
   "source": [
    "df.na.fill(\"unknown\",[\"city\"]).na.fill(\"\",[\"type\"]).show()"
   ]
  },
  {
   "cell_type": "code",
   "execution_count": 9,
   "id": "9fbb878c",
   "metadata": {
    "ExecuteTime": {
     "end_time": "2023-12-02T12:06:46.996064Z",
     "start_time": "2023-12-02T12:06:46.618858Z"
    }
   },
   "outputs": [
    {
     "name": "stdout",
     "output_type": "stream",
     "text": [
      "+---+-------+--------+-------+-----+----------+\n",
      "| id|zipcode|    type|   city|state|population|\n",
      "+---+-------+--------+-------+-----+----------+\n",
      "|  1|    704|standard|unknown|   MH|     30100|\n",
      "|  2|    708|        |   pune|   MH|      NULL|\n",
      "|  3|    709|        |phaltan|   MH|      3700|\n",
      "|  4|  76166|  unique| satara|   MH|     84000|\n",
      "|  5|  76177|standard|unknown|   TN|      NULL|\n",
      "+---+-------+--------+-------+-----+----------+\n",
      "\n"
     ]
    }
   ],
   "source": [
    "df.na.fill({'city':\"unknown\",\"type\":\"\"}).show()"
   ]
  }
 ],
 "metadata": {
  "hide_input": false,
  "kernelspec": {
   "display_name": "Python 3 (ipykernel)",
   "language": "python",
   "name": "python3"
  },
  "language_info": {
   "codemirror_mode": {
    "name": "ipython",
    "version": 3
   },
   "file_extension": ".py",
   "mimetype": "text/x-python",
   "name": "python",
   "nbconvert_exporter": "python",
   "pygments_lexer": "ipython3",
   "version": "3.9.7"
  }
 },
 "nbformat": 4,
 "nbformat_minor": 5
}

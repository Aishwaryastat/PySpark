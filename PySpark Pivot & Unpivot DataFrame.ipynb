{
 "cells": [
  {
   "cell_type": "markdown",
   "id": "7db82094",
   "metadata": {},
   "source": [
    " Pivot() It is an aggregation where one of the grouping columns values is transposed into individual columns with distinct data."
   ]
  },
  {
   "cell_type": "markdown",
   "id": "b7a91dd1",
   "metadata": {},
   "source": [
    "# Syntax\n",
    "`pivot_df = original_df.groupBy(\"grouping_column\").pivot(\"pivot_column\").agg({\"agg_column\": \"agg_function\"})`"
   ]
  },
  {
   "cell_type": "code",
   "execution_count": 1,
   "id": "ebf55458",
   "metadata": {
    "ExecuteTime": {
     "end_time": "2023-12-02T12:45:09.835158Z",
     "start_time": "2023-12-02T12:44:25.349530Z"
    }
   },
   "outputs": [],
   "source": [
    "from pyspark.sql import SparkSession\n",
    "spark=SparkSession.builder.appName(\"SP\").getOrCreate()"
   ]
  },
  {
   "cell_type": "code",
   "execution_count": 7,
   "id": "375a43bf",
   "metadata": {
    "ExecuteTime": {
     "end_time": "2023-12-02T12:49:36.880479Z",
     "start_time": "2023-12-02T12:49:34.859846Z"
    }
   },
   "outputs": [
    {
     "data": {
      "text/plain": [
       "DataFrame[Age: int, Attrition: string, BusinessTravel: string, DailyRate: int, Department: string, DistanceFromHome: int, Education: int, EducationField: string, EmployeeCount: int, EmployeeNumber: int, EnvironmentSatisfaction: int, Gender: string, HourlyRate: int, JobInvolvement: int, JobLevel: int, JobRole: string, JobSatisfaction: int, MaritalStatus: string]"
      ]
     },
     "execution_count": 7,
     "metadata": {},
     "output_type": "execute_result"
    }
   ],
   "source": [
    "# read csv file\n",
    "file_path = \"C:/Users/pcc/Desktop/HR_1.csv\"\n",
    "df=spark.read.csv(file_path,header=True,inferSchema=True)\n",
    "df"
   ]
  },
  {
   "cell_type": "code",
   "execution_count": 8,
   "id": "bd16a2a5",
   "metadata": {
    "ExecuteTime": {
     "end_time": "2023-12-02T12:49:41.498991Z",
     "start_time": "2023-12-02T12:49:40.820744Z"
    }
   },
   "outputs": [
    {
     "name": "stdout",
     "output_type": "stream",
     "text": [
      "+---+---------+-----------------+---------+--------------------+----------------+---------+----------------+-------------+--------------+-----------------------+------+----------+--------------+--------+--------------------+---------------+-------------+\n",
      "|Age|Attrition|   BusinessTravel|DailyRate|          Department|DistanceFromHome|Education|  EducationField|EmployeeCount|EmployeeNumber|EnvironmentSatisfaction|Gender|HourlyRate|JobInvolvement|JobLevel|             JobRole|JobSatisfaction|MaritalStatus|\n",
      "+---+---------+-----------------+---------+--------------------+----------------+---------+----------------+-------------+--------------+-----------------------+------+----------+--------------+--------+--------------------+---------------+-------------+\n",
      "| 31|       No|       Non-Travel|      158|            Software|               7|        3|         Medical|            1|             1|                      3|  Male|        42|             2|       3|           Developer|              1|      Married|\n",
      "| 38|       No|    Travel_Rarely|      985|     Human Resources|              33|        5|   Life Sciences|            1|             2|                      1|Female|        66|             2|       4|Healthcare Repres...|              3|       Single|\n",
      "| 59|      Yes|       Non-Travel|     1273|               Sales|               5|        2|Technical Degree|            1|             3|                      4|Female|        96|             1|       3|Manufacturing Dir...|              2|      Married|\n",
      "| 52|      Yes|    Travel_Rarely|      480|             Support|               2|        5|       Marketing|            1|             4|                      4|Female|        71|             2|       4|     Human Resources|              1|      Married|\n",
      "| 32|       No|       Non-Travel|      543|     Human Resources|               7|        5| Human Resources|            1|             5|                      2|  Male|       122|             3|       3|             Manager|              2|     Divorced|\n",
      "| 19|      Yes|       Non-Travel|      779|            Hardware|              43|        1|         Medical|            1|             6|                      2|Female|       195|             4|       3|   Research Director|              3|      Married|\n",
      "| 42|      Yes|       Non-Travel|      934|             Support|              26|        4| Human Resources|            1|             7|                      2|Female|        80|             3|       5|     Sales Executive|              4|     Divorced|\n",
      "| 30|       No|    Travel_Rarely|      380|             Support|              19|        3|       Marketing|            1|             8|                      4|  Male|       165|             1|       4|     Human Resources|              4|       Single|\n",
      "| 41|       No|Travel_Frequently|     1464|            Software|              16|        1|   Life Sciences|            1|             9|                      3|  Male|       134|             1|       2|             Manager|              4|     Divorced|\n",
      "| 45|       No|Travel_Frequently|     1020|     Human Resources|              17|        5|   Life Sciences|            1|            10|                      4|Female|       137|             2|       4|             Manager|              2|      Married|\n",
      "| 36|       No|    Travel_Rarely|      987|               Sales|              33|        4|           Other|            1|            11|                      3|  Male|       159|             3|       1|     Human Resources|              3|      Married|\n",
      "| 23|       No|Travel_Frequently|      135|     Human Resources|              20|        4|   Life Sciences|            1|            12|                      2|Female|        51|             2|       2|Manufacturing Dir...|              2|     Divorced|\n",
      "| 24|      Yes|       Non-Travel|     1086|             Support|              15|        1|       Marketing|            1|            13|                      4|Female|       189|             3|       1|Manufacturing Dir...|              4|      Married|\n",
      "| 39|      Yes|       Non-Travel|      673|Research & Develo...|              16|        2| Human Resources|            1|            14|                      2|Female|        69|             4|       2|     Sales Executive|              2|      Married|\n",
      "| 42|      Yes|    Travel_Rarely|      145|     Human Resources|              31|        3|   Life Sciences|            1|            15|                      3|  Male|       127|             3|       1|           Developer|              4|      Married|\n",
      "| 44|      Yes|Travel_Frequently|      717|            Software|              10|        2| Human Resources|            1|            16|                      3|Female|       151|             1|       5|Sales Representative|              4|     Divorced|\n",
      "| 50|      Yes|Travel_Frequently|      460|Research & Develo...|              10|        4| Human Resources|            1|            17|                      4|  Male|       181|             2|       5|             Manager|              3|     Divorced|\n",
      "| 42|       No|    Travel_Rarely|     1422|            Software|              26|        4|   Life Sciences|            1|            18|                      4|Female|        92|             4|       5|           Developer|              3|       Single|\n",
      "| 49|       No|Travel_Frequently|      129|Research & Develo...|              41|        1|Technical Degree|            1|            19|                      3|Female|        81|             2|       1|             Manager|              1|     Divorced|\n",
      "| 58|      Yes|    Travel_Rarely|      637|             Support|               5|        4|Technical Degree|            1|            20|                      2|Female|        66|             3|       5|             Manager|              2|      Married|\n",
      "+---+---------+-----------------+---------+--------------------+----------------+---------+----------------+-------------+--------------+-----------------------+------+----------+--------------+--------+--------------------+---------------+-------------+\n",
      "only showing top 20 rows\n",
      "\n"
     ]
    }
   ],
   "source": [
    "df.show()"
   ]
  },
  {
   "cell_type": "code",
   "execution_count": 9,
   "id": "bc9ed262",
   "metadata": {
    "ExecuteTime": {
     "end_time": "2023-12-02T12:50:09.526369Z",
     "start_time": "2023-12-02T12:50:09.503380Z"
    }
   },
   "outputs": [
    {
     "name": "stdout",
     "output_type": "stream",
     "text": [
      "root\n",
      " |-- Age: integer (nullable = true)\n",
      " |-- Attrition: string (nullable = true)\n",
      " |-- BusinessTravel: string (nullable = true)\n",
      " |-- DailyRate: integer (nullable = true)\n",
      " |-- Department: string (nullable = true)\n",
      " |-- DistanceFromHome: integer (nullable = true)\n",
      " |-- Education: integer (nullable = true)\n",
      " |-- EducationField: string (nullable = true)\n",
      " |-- EmployeeCount: integer (nullable = true)\n",
      " |-- EmployeeNumber: integer (nullable = true)\n",
      " |-- EnvironmentSatisfaction: integer (nullable = true)\n",
      " |-- Gender: string (nullable = true)\n",
      " |-- HourlyRate: integer (nullable = true)\n",
      " |-- JobInvolvement: integer (nullable = true)\n",
      " |-- JobLevel: integer (nullable = true)\n",
      " |-- JobRole: string (nullable = true)\n",
      " |-- JobSatisfaction: integer (nullable = true)\n",
      " |-- MaritalStatus: string (nullable = true)\n",
      "\n"
     ]
    }
   ],
   "source": [
    "df.printSchema()"
   ]
  },
  {
   "cell_type": "markdown",
   "id": "12271cce",
   "metadata": {},
   "source": [
    "# Pivot PySpark DataFrame\n"
   ]
  },
  {
   "cell_type": "code",
   "execution_count": 18,
   "id": "778208a8",
   "metadata": {
    "ExecuteTime": {
     "end_time": "2023-12-02T12:55:44.209260Z",
     "start_time": "2023-12-02T12:55:42.070273Z"
    }
   },
   "outputs": [
    {
     "name": "stdout",
     "output_type": "stream",
     "text": [
      "root\n",
      " |-- Department: string (nullable = true)\n",
      " |-- Female: long (nullable = true)\n",
      " |-- Male: long (nullable = true)\n",
      "\n",
      "+--------------------+------+------+\n",
      "|          Department|Female|  Male|\n",
      "+--------------------+------+------+\n",
      "|               Sales|162689|165794|\n",
      "|Research & Develo...|164843|160354|\n",
      "|            Software|163530|161543|\n",
      "|             Support|158128|164641|\n",
      "|            Hardware|160705|159191|\n",
      "|     Human Resources|163646|163510|\n",
      "+--------------------+------+------+\n",
      "\n"
     ]
    }
   ],
   "source": [
    "# Applying pivot()\n",
    "pivotDf=df.groupBy(\"Department\").pivot(\"Gender\").sum(\"Age\")\n",
    "pivotDf.printSchema()\n",
    "pivotDf.show()"
   ]
  },
  {
   "cell_type": "code",
   "execution_count": 21,
   "id": "43b5bbd8",
   "metadata": {
    "ExecuteTime": {
     "end_time": "2023-12-02T12:59:11.948225Z",
     "start_time": "2023-12-02T12:59:09.574451Z"
    }
   },
   "outputs": [
    {
     "name": "stdout",
     "output_type": "stream",
     "text": [
      "+--------------------+------------------+-----------------+\n",
      "|          Department|            Female|             Male|\n",
      "+--------------------+------------------+-----------------+\n",
      "|               Sales|38.855743969429184|38.86404125644632|\n",
      "|Research & Develo...| 39.16440959847945|39.01557177615572|\n",
      "|            Software| 38.97283126787416|39.02004830917874|\n",
      "|             Support| 38.82347164252394|38.90382797731569|\n",
      "|            Hardware|39.359539554249324|38.96010768477729|\n",
      "|     Human Resources| 39.02838063439065|38.70059171597633|\n",
      "+--------------------+------------------+-----------------+\n",
      "\n"
     ]
    }
   ],
   "source": [
    "pivotDf=df.groupBy(\"Department\",\"Gender\").avg(\"Age\").groupBy(\"Department\").pivot(\"Gender\").avg(\"avg(Age)\")\n",
    "pivotDf.show()"
   ]
  },
  {
   "cell_type": "code",
   "execution_count": 24,
   "id": "8b4c9609",
   "metadata": {
    "ExecuteTime": {
     "end_time": "2023-12-02T13:09:06.894232Z",
     "start_time": "2023-12-02T13:09:05.517757Z"
    }
   },
   "outputs": [
    {
     "name": "stdout",
     "output_type": "stream",
     "text": [
      "root\n",
      " |-- Gender: string (nullable = true)\n",
      " |-- Sales: long (nullable = true)\n",
      " |-- Hardware: long (nullable = true)\n",
      " |-- Support: long (nullable = true)\n",
      "\n",
      "+------+------+--------+-------+\n",
      "|Gender| Sales|Hardware|Support|\n",
      "+------+------+--------+-------+\n",
      "|Female|162689|  160705| 158128|\n",
      "|  Male|165794|  159191| 164641|\n",
      "+------+------+--------+-------+\n",
      "\n"
     ]
    }
   ],
   "source": [
    "dep=['Sales','Hardware','Support']\n",
    "pivotDf=df.groupBy(\"Gender\").pivot(\"Department\",dep).sum(\"Age\")\n",
    "pivotDf.printSchema()\n",
    "pivotDf.show()"
   ]
  },
  {
   "cell_type": "markdown",
   "id": "0c2b6eb2",
   "metadata": {},
   "source": [
    "# Unpivot PySpark DataFrame\n",
    "\n",
    " PySpark SQL doesn’t have unpivot function hence will use the stack() function."
   ]
  },
  {
   "cell_type": "code",
   "execution_count": 25,
   "id": "492b62a9",
   "metadata": {
    "ExecuteTime": {
     "end_time": "2023-12-02T13:09:11.563066Z",
     "start_time": "2023-12-02T13:09:09.695390Z"
    }
   },
   "outputs": [
    {
     "name": "stdout",
     "output_type": "stream",
     "text": [
      "+------+----------+--------+\n",
      "|Gender|Department|   Total|\n",
      "+------+----------+--------+\n",
      "|Female|   Support| Support|\n",
      "|Female|  Software|Software|\n",
      "|Female|  Hardware|Hardware|\n",
      "|  Male|   Support| Support|\n",
      "|  Male|  Software|Software|\n",
      "|  Male|  Hardware|Hardware|\n",
      "+------+----------+--------+\n",
      "\n"
     ]
    }
   ],
   "source": [
    "# Applying unpivot()\n",
    "from pyspark.sql.functions import expr\n",
    "unpivotExpr=\"stack(3,'Support','Support','Software','Software','Hardware','Hardware') as (Department, Total)\"\n",
    "unpivotDF=pivotDf.select(\"Gender\",expr(unpivotExpr)).where(\"Total is not null\")\n",
    "unpivotDF.show()\n"
   ]
  }
 ],
 "metadata": {
  "hide_input": false,
  "kernelspec": {
   "display_name": "Python 3 (ipykernel)",
   "language": "python",
   "name": "python3"
  },
  "language_info": {
   "codemirror_mode": {
    "name": "ipython",
    "version": 3
   },
   "file_extension": ".py",
   "mimetype": "text/x-python",
   "name": "python",
   "nbconvert_exporter": "python",
   "pygments_lexer": "ipython3",
   "version": "3.9.7"
  }
 },
 "nbformat": 4,
 "nbformat_minor": 5
}

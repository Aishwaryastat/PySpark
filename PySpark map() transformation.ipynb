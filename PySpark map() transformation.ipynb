{
 "cells": [
  {
   "cell_type": "markdown",
   "id": "cf2920e8",
   "metadata": {},
   "source": [
    "PySpark map (`map()`) is an RDD transformation that is used to apply the transformation function (lambda) on every element of RDD/DataFrame and returns a new RDD. \n",
    "\n",
    "RDD `map()` transformation is used to apply any complex operations like adding a column, updating a column, transforming the data e.t.c, the output of map transformations would always have the same number of records as input.\n",
    "\n",
    "Note1: DataFrame doesn’t have `map()` transformation to use with DataFrame hence you need to convert DataFrame to RDD first.\n",
    "\n",
    "Note2: If you have a heavy initialization use PySpark `mapPartitions()` transformation instead of `map()`, as with `mapPartitions()` heavy initialization executes only once for each partition instead of every record."
   ]
  },
  {
   "cell_type": "code",
   "execution_count": 1,
   "id": "16ad77cf",
   "metadata": {
    "ExecuteTime": {
     "end_time": "2023-12-01T12:46:18.954822Z",
     "start_time": "2023-12-01T12:45:36.799037Z"
    }
   },
   "outputs": [],
   "source": [
    "from pyspark.sql import SparkSession\n",
    "spark = SparkSession.builder.master(\"local[1]\") \\\n",
    "    .appName(\"SP\").getOrCreate()\n",
    "\n",
    "data = [\"Project\",\"Gutenberg’s\",\"Alice’s\",\"Adventures\",\n",
    "\"in\",\"Wonderland\",\"Project\",\"Gutenberg’s\",\"Adventures\",\n",
    "\"in\",\"Wonderland\",\"Project\",\"Gutenberg’s\"]\n",
    "\n",
    "rdd=spark.sparkContext.parallelize(data)\n"
   ]
  },
  {
   "cell_type": "markdown",
   "id": "9bcd2a79",
   "metadata": {},
   "source": [
    "# PySpark map() Example with RDD\n",
    "\n",
    "In this PySpark map() example, we are adding a new element with value 1 for each element, the result of the RDD is PairRDDFunctions which contains key-value pairs, word of type String as Key and 1 of type Int as value."
   ]
  },
  {
   "cell_type": "code",
   "execution_count": 4,
   "id": "33c2bd54",
   "metadata": {
    "ExecuteTime": {
     "end_time": "2023-12-01T12:48:24.306122Z",
     "start_time": "2023-12-01T12:48:24.298128Z"
    },
    "run_control": {
     "marked": false
    }
   },
   "outputs": [],
   "source": [
    "rdd2= rdd.map(lambda x:(x,1))\n",
    "for element in rdd2.collect():\n",
    "    print(element)"
   ]
  },
  {
   "cell_type": "markdown",
   "id": "d23e768e",
   "metadata": {},
   "source": [
    "# PySpark map() Example with DataFrame\n",
    "\n",
    "PySpark DataFrame doesn’t have map() transformation to apply the lambda function, when you wanted to apply the custom transformation, you need to convert the DataFrame to RDD and apply the map() transformation."
   ]
  },
  {
   "cell_type": "code",
   "execution_count": 6,
   "id": "8ed22a33",
   "metadata": {
    "ExecuteTime": {
     "end_time": "2023-12-01T12:50:26.798870Z",
     "start_time": "2023-12-01T12:50:03.954454Z"
    }
   },
   "outputs": [],
   "source": [
    "\n",
    "data = [('James','Smith','M',30),\n",
    "  ('Anna','Rose','F',41),\n",
    "  ('Robert','Williams','M',62), \n",
    "]\n",
    "\n",
    "columns = [\"firstname\",\"lastname\",\"gender\",\"salary\"]\n",
    "df = spark.createDataFrame(data=data, schema=columns)"
   ]
  },
  {
   "cell_type": "code",
   "execution_count": 8,
   "id": "f9d047e2",
   "metadata": {
    "ExecuteTime": {
     "end_time": "2023-12-01T12:52:31.643215Z",
     "start_time": "2023-12-01T12:52:31.626445Z"
    }
   },
   "outputs": [],
   "source": [
    "# Refering columns by index\n",
    "rdd2= df.rdd.map(lambda x:\n",
    "                (x[0]+\",\"+x[1],x[2],x[3]*2))\n",
    "df2=rdd2.toDF([\"name\",\"gender\",'new_salary'])"
   ]
  },
  {
   "cell_type": "code",
   "execution_count": 9,
   "id": "c21b804d",
   "metadata": {
    "ExecuteTime": {
     "end_time": "2023-12-01T12:54:41.147177Z",
     "start_time": "2023-12-01T12:54:41.125212Z"
    }
   },
   "outputs": [],
   "source": [
    "# Referring column names\n",
    "rdd2=df.rdd.map(lambda x: (x.firstname+','+x.lastname,\n",
    "               x.gender,x.salary*2))"
   ]
  },
  {
   "cell_type": "code",
   "execution_count": 10,
   "id": "b24bc562",
   "metadata": {
    "ExecuteTime": {
     "end_time": "2023-12-01T12:57:15.838447Z",
     "start_time": "2023-12-01T12:57:15.821461Z"
    }
   },
   "outputs": [],
   "source": [
    "# By Calling Function \n",
    "def func(x):\n",
    "    fname=x.firstname\n",
    "    lname=x.lastname\n",
    "    name=fname+\",\"+lname\n",
    "    gender=x.gender.lower()\n",
    "    salary=x.salary*2\n",
    "    return ( name, gender, salary)\n",
    "\n",
    "rdd2=df.rdd.map(lambda x: func(x))"
   ]
  }
 ],
 "metadata": {
  "hide_input": false,
  "kernelspec": {
   "display_name": "Python 3 (ipykernel)",
   "language": "python",
   "name": "python3"
  },
  "language_info": {
   "codemirror_mode": {
    "name": "ipython",
    "version": 3
   },
   "file_extension": ".py",
   "mimetype": "text/x-python",
   "name": "python",
   "nbconvert_exporter": "python",
   "pygments_lexer": "ipython3",
   "version": "3.9.7"
  }
 },
 "nbformat": 4,
 "nbformat_minor": 5
}

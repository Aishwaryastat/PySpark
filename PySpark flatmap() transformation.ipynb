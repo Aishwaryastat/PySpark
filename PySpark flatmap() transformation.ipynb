{
 "cells": [
  {
   "cell_type": "markdown",
   "id": "9397b675",
   "metadata": {},
   "source": [
    "PySpark flatMap() is a transformation operation that flattens the RDD/DataFrame (array/map DataFrame columns) after applying the function on every element and returns a new PySpark RDD/DataFrame. "
   ]
  },
  {
   "cell_type": "code",
   "execution_count": 2,
   "id": "c2b7f616",
   "metadata": {
    "ExecuteTime": {
     "end_time": "2023-12-01T13:14:47.697561Z",
     "start_time": "2023-12-01T13:14:14.330180Z"
    }
   },
   "outputs": [
    {
     "name": "stdout",
     "output_type": "stream",
     "text": [
      "Project Gutenberg’s\n",
      "Alice’s Adventures in Wonderland\n",
      "Project Gutenberg’s\n",
      "Adventures in Wonderland\n",
      "Project Gutenberg’s\n"
     ]
    }
   ],
   "source": [
    "from pyspark.sql import SparkSession\n",
    "\n",
    "spark = SparkSession.builder.appName('SP').getOrCreate()\n",
    "\n",
    "data = [\"Project Gutenberg’s\",\n",
    "        \"Alice’s Adventures in Wonderland\",\n",
    "        \"Project Gutenberg’s\",\n",
    "        \"Adventures in Wonderland\",\n",
    "        \"Project Gutenberg’s\"]\n",
    "rdd=spark.sparkContext.parallelize(data)\n",
    "for element in rdd.collect():\n",
    "    print(element)"
   ]
  },
  {
   "cell_type": "code",
   "execution_count": 4,
   "id": "d635b7ac",
   "metadata": {
    "ExecuteTime": {
     "end_time": "2023-12-01T13:16:20.257656Z",
     "start_time": "2023-12-01T13:16:20.243663Z"
    }
   },
   "outputs": [],
   "source": [
    "# Flatmap \n",
    "rdd2=rdd.flatMap(lambda x: x.split(\" \"))\n",
    "for element in rdd2.collect():\n",
    "    print(element)"
   ]
  },
  {
   "cell_type": "raw",
   "id": "3e5b2c02",
   "metadata": {},
   "source": [
    "# Output\n",
    "Project\n",
    "Gutenberg’s\n",
    "Alice’s\n",
    "Adventures\n",
    "in\n",
    "Wonderland\n",
    "Project\n",
    "Gutenberg’s\n",
    "Adventures\n",
    "in\n",
    "Wonderland\n",
    "Project\n",
    "Gutenberg’s"
   ]
  },
  {
   "cell_type": "markdown",
   "id": "95b04a3f",
   "metadata": {},
   "source": [
    "# Using flatMap() transformation on DataFrame\n",
    "\n",
    "Unfortunately, PySpark DataFame doesn’t have flatMap() transformation however, DataFrame has explode() SQL function that is used to flatten the column."
   ]
  },
  {
   "cell_type": "code",
   "execution_count": 5,
   "id": "64b21dcc",
   "metadata": {
    "ExecuteTime": {
     "end_time": "2023-12-01T13:18:30.234642Z",
     "start_time": "2023-12-01T13:18:11.579105Z"
    }
   },
   "outputs": [],
   "source": [
    "arrayData = [\n",
    "        ('James',['Java','Scala'],{'hair':'black','eye':'brown'}),\n",
    "        ('Michael',['Spark','Java',None],{'hair':'brown','eye':None}),\n",
    "        ('Robert',['CSharp',''],{'hair':'red','eye':''}),\n",
    "        ('Washington',None,None),\n",
    "        ('Jefferson',['1','2'],{})]\n",
    "df = spark.createDataFrame(data=arrayData, schema = ['name','knownLanguages','properties'])\n"
   ]
  },
  {
   "cell_type": "code",
   "execution_count": 6,
   "id": "82a7cb1c",
   "metadata": {
    "ExecuteTime": {
     "end_time": "2023-12-01T13:19:43.482805Z",
     "start_time": "2023-12-01T13:19:43.116132Z"
    }
   },
   "outputs": [],
   "source": [
    "from pyspark.sql.functions import explode \n",
    "df2=df.select(df.name,explode(df.knownLanguages))"
   ]
  },
  {
   "cell_type": "code",
   "execution_count": null,
   "id": "5467e838",
   "metadata": {},
   "outputs": [],
   "source": []
  }
 ],
 "metadata": {
  "hide_input": false,
  "kernelspec": {
   "display_name": "Python 3 (ipykernel)",
   "language": "python",
   "name": "python3"
  },
  "language_info": {
   "codemirror_mode": {
    "name": "ipython",
    "version": 3
   },
   "file_extension": ".py",
   "mimetype": "text/x-python",
   "name": "python",
   "nbconvert_exporter": "python",
   "pygments_lexer": "ipython3",
   "version": "3.9.7"
  }
 },
 "nbformat": 4,
 "nbformat_minor": 5
}

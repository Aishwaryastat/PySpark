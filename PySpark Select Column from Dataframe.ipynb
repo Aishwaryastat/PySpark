{
 "cells": [
  {
   "cell_type": "markdown",
   "id": "226ff5ce",
   "metadata": {},
   "source": [
    "`select()` - is used to select single, multiple, column by index, all columns from list and the nested columns from a dataframe, PySpark `select()` is a transformation function hence it return a new dataframe with the selected columns. "
   ]
  },
  {
   "cell_type": "code",
   "execution_count": 1,
   "id": "46b53b69",
   "metadata": {
    "ExecuteTime": {
     "end_time": "2023-11-29T08:09:31.596770Z",
     "start_time": "2023-11-29T08:08:30.145939Z"
    }
   },
   "outputs": [],
   "source": [
    "from pyspark.sql import SparkSession\n",
    "spark=SparkSession.builder.appName(\"SP\").getOrCreate()"
   ]
  },
  {
   "cell_type": "code",
   "execution_count": 2,
   "id": "d41a7c59",
   "metadata": {
    "ExecuteTime": {
     "end_time": "2023-11-29T08:10:19.663491Z",
     "start_time": "2023-11-29T08:09:46.690936Z"
    }
   },
   "outputs": [
    {
     "name": "stdout",
     "output_type": "stream",
     "text": [
      "+---+---------+-----------+----------+----------+-------------+-----------------+----------------+\n",
      "|Row|      Day|Day_Of_Week|      Date|Page_Loads|Unique_Visits|First_Time_Visits|Returning_Visits|\n",
      "+---+---------+-----------+----------+----------+-------------+-----------------+----------------+\n",
      "|  1|   Sunday|          1| 9/14/2014|      2146|         1582|             1430|             152|\n",
      "|  2|   Monday|          2| 9/15/2014|      3621|         2528|             2297|             231|\n",
      "|  3|  Tuesday|          3| 9/16/2014|      3698|         2630|             2352|             278|\n",
      "|  4|Wednesday|          4| 9/17/2014|      3667|         2614|             2327|             287|\n",
      "|  5| Thursday|          5| 9/18/2014|      3316|         2366|             2130|             236|\n",
      "|  6|   Friday|          6| 9/19/2014|      2815|         1863|             1622|             241|\n",
      "|  7| Saturday|          7| 9/20/2014|      1658|         1118|              985|             133|\n",
      "|  8|   Sunday|          1| 9/21/2014|      2288|         1656|             1481|             175|\n",
      "|  9|   Monday|          2| 9/22/2014|      3638|         2586|             2312|             274|\n",
      "| 10|  Tuesday|          3| 9/23/2014|      4462|         3257|             2989|             268|\n",
      "| 11|Wednesday|          4| 9/24/2014|      4414|         3175|             2891|             284|\n",
      "| 12| Thursday|          5| 9/25/2014|      4315|         3029|             2743|             286|\n",
      "| 13|   Friday|          6| 9/26/2014|      3323|         2249|             2033|             216|\n",
      "| 14| Saturday|          7| 9/27/2014|      1656|         1180|             1040|             140|\n",
      "| 15|   Sunday|          1| 9/28/2014|      2465|         1806|             1613|             193|\n",
      "| 16|   Monday|          2| 9/29/2014|      4096|         2873|             2577|             296|\n",
      "| 17|  Tuesday|          3| 9/30/2014|      4474|         3032|             2720|             312|\n",
      "| 18|Wednesday|          4|10-01-2014|      4124|         2849|             2541|             308|\n",
      "| 19| Thursday|          5|10-02-2014|      3514|         2489|             2239|             250|\n",
      "| 20|   Friday|          6|10-03-2014|      3005|         2097|             1856|             241|\n",
      "+---+---------+-----------+----------+----------+-------------+-----------------+----------------+\n",
      "only showing top 20 rows\n",
      "\n"
     ]
    }
   ],
   "source": [
    "# read csv file\n",
    "file_path = \"C:\\\\Users\\\\pcc\\\\Desktop\\\\daily-website-visitors.csv\"\n",
    "df=spark.read.csv(file_path,header=True,inferSchema=True)\n",
    "\n",
    "df=df.withColumnsRenamed({\"Day.Of.Week\":\"Day_Of_Week\",\"Page.Loads\":\"Page_Loads\",\n",
    "                          \"Unique.Visits\":\"Unique_Visits\",\"First.Time.Visits\":\"First_Time_Visits\",\n",
    "                          \"Returning.Visits\":\"Returning_Visits\"})\n",
    "\n",
    "df.show()"
   ]
  },
  {
   "cell_type": "markdown",
   "id": "50071185",
   "metadata": {},
   "source": [
    "# 1. Select Single & Multiple columns from PySpark"
   ]
  },
  {
   "cell_type": "code",
   "execution_count": 3,
   "id": "b2805e8e",
   "metadata": {
    "ExecuteTime": {
     "end_time": "2023-11-29T08:12:16.508826Z",
     "start_time": "2023-11-29T08:12:15.792525Z"
    }
   },
   "outputs": [
    {
     "name": "stdout",
     "output_type": "stream",
     "text": [
      "+----------+\n",
      "|Page_Loads|\n",
      "+----------+\n",
      "|      2146|\n",
      "|      3621|\n",
      "|      3698|\n",
      "|      3667|\n",
      "|      3316|\n",
      "+----------+\n",
      "only showing top 5 rows\n",
      "\n"
     ]
    }
   ],
   "source": [
    "df.select(\"Page_Loads\").show(5)"
   ]
  },
  {
   "cell_type": "code",
   "execution_count": 4,
   "id": "ebecf972",
   "metadata": {
    "ExecuteTime": {
     "end_time": "2023-11-29T08:12:52.074427Z",
     "start_time": "2023-11-29T08:12:47.566086Z"
    }
   },
   "outputs": [
    {
     "name": "stdout",
     "output_type": "stream",
     "text": [
      "+---------+----------+\n",
      "|      Day|Page_Loads|\n",
      "+---------+----------+\n",
      "|   Sunday|      2146|\n",
      "|   Monday|      3621|\n",
      "|  Tuesday|      3698|\n",
      "|Wednesday|      3667|\n",
      "| Thursday|      3316|\n",
      "+---------+----------+\n",
      "only showing top 5 rows\n",
      "\n"
     ]
    }
   ],
   "source": [
    "df.select(df.Day,df.Page_Loads).show(5)"
   ]
  },
  {
   "cell_type": "code",
   "execution_count": 5,
   "id": "178f5446",
   "metadata": {
    "ExecuteTime": {
     "end_time": "2023-11-29T08:14:01.180649Z",
     "start_time": "2023-11-29T08:14:00.748311Z"
    }
   },
   "outputs": [
    {
     "name": "stdout",
     "output_type": "stream",
     "text": [
      "+---------+----------+\n",
      "|     Date|Page_Loads|\n",
      "+---------+----------+\n",
      "|9/14/2014|      2146|\n",
      "|9/15/2014|      3621|\n",
      "|9/16/2014|      3698|\n",
      "|9/17/2014|      3667|\n",
      "|9/18/2014|      3316|\n",
      "+---------+----------+\n",
      "only showing top 5 rows\n",
      "\n"
     ]
    }
   ],
   "source": [
    "df.select(df[\"Date\"],df[\"Page_Loads\"]).show(5)"
   ]
  },
  {
   "cell_type": "code",
   "execution_count": 7,
   "id": "8249d642",
   "metadata": {
    "ExecuteTime": {
     "end_time": "2023-11-29T08:15:28.136579Z",
     "start_time": "2023-11-29T08:15:27.841078Z"
    }
   },
   "outputs": [
    {
     "name": "stdout",
     "output_type": "stream",
     "text": [
      "+----------+---------+\n",
      "|Page_Loads|      Day|\n",
      "+----------+---------+\n",
      "|      2146|   Sunday|\n",
      "|      3621|   Monday|\n",
      "|      3698|  Tuesday|\n",
      "|      3667|Wednesday|\n",
      "|      3316| Thursday|\n",
      "+----------+---------+\n",
      "only showing top 5 rows\n",
      "\n"
     ]
    }
   ],
   "source": [
    "# By using col() function\n",
    "from pyspark.sql.functions import col\n",
    "df.select(col(\"Page_Loads\"),col(\"Day\")).show(5)"
   ]
  },
  {
   "cell_type": "code",
   "execution_count": 8,
   "id": "d17f25f7",
   "metadata": {
    "ExecuteTime": {
     "end_time": "2023-11-29T08:18:10.189469Z",
     "start_time": "2023-11-29T08:18:09.543724Z"
    }
   },
   "outputs": [
    {
     "name": "stdout",
     "output_type": "stream",
     "text": [
      "+-------------+-----------------+----------------+\n",
      "|Unique_Visits|First_Time_Visits|Returning_Visits|\n",
      "+-------------+-----------------+----------------+\n",
      "|         1582|             1430|             152|\n",
      "|         2528|             2297|             231|\n",
      "|         2630|             2352|             278|\n",
      "|         2614|             2327|             287|\n",
      "|         2366|             2130|             236|\n",
      "|         1863|             1622|             241|\n",
      "|         1118|              985|             133|\n",
      "|         1656|             1481|             175|\n",
      "|         2586|             2312|             274|\n",
      "|         3257|             2989|             268|\n",
      "|         3175|             2891|             284|\n",
      "|         3029|             2743|             286|\n",
      "|         2249|             2033|             216|\n",
      "|         1180|             1040|             140|\n",
      "|         1806|             1613|             193|\n",
      "|         2873|             2577|             296|\n",
      "|         3032|             2720|             312|\n",
      "|         2849|             2541|             308|\n",
      "|         2489|             2239|             250|\n",
      "|         2097|             1856|             241|\n",
      "+-------------+-----------------+----------------+\n",
      "only showing top 20 rows\n",
      "\n"
     ]
    }
   ],
   "source": [
    "# Select columns by regular expression\n",
    "df.select(df.colRegex(\"`^.*Visits*`\")).show()"
   ]
  },
  {
   "cell_type": "markdown",
   "id": "6fbcc4d5",
   "metadata": {},
   "source": [
    "# 2. Select All Columns From List"
   ]
  },
  {
   "cell_type": "code",
   "execution_count": 13,
   "id": "133a334c",
   "metadata": {
    "ExecuteTime": {
     "end_time": "2023-11-29T08:23:19.316537Z",
     "start_time": "2023-11-29T08:23:18.712739Z"
    }
   },
   "outputs": [
    {
     "name": "stdout",
     "output_type": "stream",
     "text": [
      "+---+---------+-----------+---------+----------+-------------+-----------------+----------------+\n",
      "|Row|      Day|Day_Of_Week|     Date|Page_Loads|Unique_Visits|First_Time_Visits|Returning_Visits|\n",
      "+---+---------+-----------+---------+----------+-------------+-----------------+----------------+\n",
      "|  1|   Sunday|          1|9/14/2014|      2146|         1582|             1430|             152|\n",
      "|  2|   Monday|          2|9/15/2014|      3621|         2528|             2297|             231|\n",
      "|  3|  Tuesday|          3|9/16/2014|      3698|         2630|             2352|             278|\n",
      "|  4|Wednesday|          4|9/17/2014|      3667|         2614|             2327|             287|\n",
      "|  5| Thursday|          5|9/18/2014|      3316|         2366|             2130|             236|\n",
      "+---+---------+-----------+---------+----------+-------------+-----------------+----------------+\n",
      "only showing top 5 rows\n",
      "\n",
      "+---+------+-----------+---------+----------+-------------+-----------------+----------------+\n",
      "|Row|   Day|Day_Of_Week|     Date|Page_Loads|Unique_Visits|First_Time_Visits|Returning_Visits|\n",
      "+---+------+-----------+---------+----------+-------------+-----------------+----------------+\n",
      "|  1|Sunday|          1|9/14/2014|      2146|         1582|             1430|             152|\n",
      "+---+------+-----------+---------+----------+-------------+-----------------+----------------+\n",
      "only showing top 1 row\n",
      "\n"
     ]
    }
   ],
   "source": [
    "# Select all columns from list\n",
    "df.select([col for col in df.columns]).show(5)\n",
    "df.select(\"*\").show(1)"
   ]
  },
  {
   "cell_type": "markdown",
   "id": "df270a06",
   "metadata": {},
   "source": [
    "# 3. Select Columns by Index"
   ]
  },
  {
   "cell_type": "code",
   "execution_count": 14,
   "id": "c01a7468",
   "metadata": {
    "ExecuteTime": {
     "end_time": "2023-11-29T08:27:21.352764Z",
     "start_time": "2023-11-29T08:27:20.563450Z"
    }
   },
   "outputs": [
    {
     "name": "stdout",
     "output_type": "stream",
     "text": [
      "+---+-------+-----------+\n",
      "|Row|    Day|Day_Of_Week|\n",
      "+---+-------+-----------+\n",
      "|  1| Sunday|          1|\n",
      "|  2| Monday|          2|\n",
      "|  3|Tuesday|          3|\n",
      "+---+-------+-----------+\n",
      "only showing top 3 rows\n",
      "\n"
     ]
    }
   ],
   "source": [
    "# selects first 3 columns and top 3 rows\n",
    "df.select(df.columns[:3]).show(3)"
   ]
  },
  {
   "cell_type": "code",
   "execution_count": 16,
   "id": "f9800165",
   "metadata": {
    "ExecuteTime": {
     "end_time": "2023-11-29T08:28:32.532035Z",
     "start_time": "2023-11-29T08:28:32.198967Z"
    }
   },
   "outputs": [
    {
     "name": "stdout",
     "output_type": "stream",
     "text": [
      "+-----------+---------+\n",
      "|Day_Of_Week|     Date|\n",
      "+-----------+---------+\n",
      "|          1|9/14/2014|\n",
      "|          2|9/15/2014|\n",
      "|          3|9/16/2014|\n",
      "+-----------+---------+\n",
      "only showing top 3 rows\n",
      "\n"
     ]
    }
   ],
   "source": [
    "# Selects columns 2 to 4 and top 3 rows\n",
    "df.select(df.columns[2:4]).show(3)"
   ]
  },
  {
   "cell_type": "code",
   "execution_count": 19,
   "id": "1b6e6691",
   "metadata": {
    "ExecuteTime": {
     "end_time": "2023-11-29T08:39:36.603355Z",
     "start_time": "2023-11-29T08:39:36.519405Z"
    }
   },
   "outputs": [
    {
     "name": "stdout",
     "output_type": "stream",
     "text": [
      "root\n",
      " |-- name: struct (nullable = true)\n",
      " |    |-- firstname: string (nullable = true)\n",
      " |    |-- middlename: string (nullable = true)\n",
      " |    |-- lastname: string (nullable = true)\n",
      " |-- state: string (nullable = true)\n",
      " |-- gender: string (nullable = true)\n",
      "\n"
     ]
    }
   ],
   "source": [
    "# Select Nested Struct Columns from PySpark\n",
    "\n",
    "data = [\n",
    "        ((\"James\",None,\"Smith\"),\"OH\",\"M\"),\n",
    "        ((\"Anna\",\"Rose\",\"\"),\"NY\",\"F\"),\n",
    "        ((\"Julia\",\"\",\"Williams\"),\"OH\",\"F\"),\n",
    "        ((\"Maria\",\"Anne\",\"Jones\"),\"NY\",\"M\"),\n",
    "        ((\"Jen\",\"Mary\",\"Brown\"),\"NY\",\"M\"),\n",
    "        ((\"Mike\",\"Mary\",\"Williams\"),\"OH\",\"M\")\n",
    "        ]\n",
    "\n",
    "from pyspark.sql.types import StructType,StructField, StringType        \n",
    "schema = StructType([\n",
    "    StructField('name', StructType([\n",
    "         StructField('firstname', StringType(), True),\n",
    "         StructField('middlename', StringType(), True),\n",
    "         StructField('lastname', StringType(), True)\n",
    "         ])),\n",
    "     StructField('state', StringType(), True),\n",
    "     StructField('gender', StringType(), True)\n",
    "     ])\n",
    "df2 = spark.createDataFrame(data = data, schema = schema)\n",
    "df2.printSchema()"
   ]
  },
  {
   "cell_type": "code",
   "execution_count": 21,
   "id": "d4d84736",
   "metadata": {
    "ExecuteTime": {
     "end_time": "2023-11-29T08:39:54.086122Z",
     "start_time": "2023-11-29T08:39:54.026159Z"
    }
   },
   "outputs": [
    {
     "data": {
      "text/plain": [
       "DataFrame[name: struct<firstname:string,middlename:string,lastname:string>]"
      ]
     },
     "execution_count": 21,
     "metadata": {},
     "output_type": "execute_result"
    }
   ],
   "source": [
    "df2.select(\"name\")"
   ]
  },
  {
   "cell_type": "code",
   "execution_count": 22,
   "id": "e4f6bcae",
   "metadata": {
    "ExecuteTime": {
     "end_time": "2023-11-29T08:41:05.899072Z",
     "start_time": "2023-11-29T08:41:05.673770Z"
    }
   },
   "outputs": [
    {
     "data": {
      "text/plain": [
       "DataFrame[firstname: string, lastname: string]"
      ]
     },
     "execution_count": 22,
     "metadata": {},
     "output_type": "execute_result"
    }
   ],
   "source": [
    "df2.select(\"name.firstname\",\"name.lastname\")"
   ]
  },
  {
   "cell_type": "code",
   "execution_count": 23,
   "id": "236559a7",
   "metadata": {
    "ExecuteTime": {
     "end_time": "2023-11-29T08:41:41.263208Z",
     "start_time": "2023-11-29T08:41:41.219232Z"
    }
   },
   "outputs": [
    {
     "data": {
      "text/plain": [
       "DataFrame[firstname: string, middlename: string, lastname: string]"
      ]
     },
     "execution_count": 23,
     "metadata": {},
     "output_type": "execute_result"
    }
   ],
   "source": [
    "df2.select(\"name.*\")"
   ]
  }
 ],
 "metadata": {
  "hide_input": false,
  "kernelspec": {
   "display_name": "Python 3 (ipykernel)",
   "language": "python",
   "name": "python3"
  },
  "language_info": {
   "codemirror_mode": {
    "name": "ipython",
    "version": 3
   },
   "file_extension": ".py",
   "mimetype": "text/x-python",
   "name": "python",
   "nbconvert_exporter": "python",
   "pygments_lexer": "ipython3",
   "version": "3.9.7"
  }
 },
 "nbformat": 4,
 "nbformat_minor": 5
}

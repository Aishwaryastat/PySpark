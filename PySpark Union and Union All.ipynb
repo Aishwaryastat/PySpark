{
 "cells": [
  {
   "cell_type": "markdown",
   "id": "55c4b54a",
   "metadata": {},
   "source": [
    "# PySpark Union & Union All   \n",
    "        by Aishwarya Raut"
   ]
  },
  {
   "cell_type": "markdown",
   "id": "45deec3e",
   "metadata": {},
   "source": [
    "PySpark union() and unionAll() transformations are used to merge two or more DataFrame’s of the same schema or structure.\n",
    "\n",
    "Dataframe `union()` – `union()` method of the DataFrame is used to merge two DataFrame’s of the same structure/schema. The output includes all rows from both DataFrames and duplicates are retained. If schemas are not the same it returns an error. To deal with the DataFrames of different schemas we need to use unionByName() transformation.\n",
    "\n",
    "`dataFrame1.union(dataFrame2)`\n",
    "\n",
    "DataFrame `unionAll()` – `unionAll()` is deprecated since Spark “2.0.0” version and replaced with union().\n",
    "\n",
    "`dataFrame1.unionAll(dataFrame2)`\n"
   ]
  },
  {
   "cell_type": "code",
   "execution_count": 2,
   "id": "8ceffc04",
   "metadata": {
    "ExecuteTime": {
     "end_time": "2023-12-01T07:59:16.979377Z",
     "start_time": "2023-12-01T07:59:16.782161Z"
    }
   },
   "outputs": [
    {
     "name": "stdout",
     "output_type": "stream",
     "text": [
      "root\n",
      " |-- employee_name: string (nullable = true)\n",
      " |-- department: string (nullable = true)\n",
      " |-- state: string (nullable = true)\n",
      " |-- salary: long (nullable = true)\n",
      " |-- age: long (nullable = true)\n",
      " |-- bonus: long (nullable = true)\n",
      "\n"
     ]
    }
   ],
   "source": [
    "\n",
    "# Imports\n",
    "import pyspark\n",
    "from pyspark.sql import SparkSession\n",
    "\n",
    "spark = SparkSession.builder.appName('SP').getOrCreate()\n",
    "\n",
    "simpleData = [(\"James\",\"Sales\",\"NY\",90000,34,10000), \\\n",
    "    (\"Michael\",\"Sales\",\"NY\",86000,56,20000), \\\n",
    "    (\"Robert\",\"Sales\",\"CA\",81000,30,23000), \\\n",
    "    (\"Maria\",\"Finance\",\"CA\",90000,24,23000) \\\n",
    "  ]\n",
    "\n",
    "columns= [\"employee_name\",\"department\",\"state\",\"salary\",\"age\",\"bonus\"]\n",
    "df = spark.createDataFrame(data = simpleData, schema = columns)\n",
    "df.printSchema()\n",
    "# df.show(truncate=False)"
   ]
  },
  {
   "cell_type": "code",
   "execution_count": 3,
   "id": "4be38786",
   "metadata": {
    "ExecuteTime": {
     "end_time": "2023-12-01T07:59:17.307549Z",
     "start_time": "2023-12-01T07:59:16.984376Z"
    }
   },
   "outputs": [
    {
     "name": "stdout",
     "output_type": "stream",
     "text": [
      "root\n",
      " |-- employee_name: string (nullable = true)\n",
      " |-- department: string (nullable = true)\n",
      " |-- state: string (nullable = true)\n",
      " |-- salary: long (nullable = true)\n",
      " |-- age: long (nullable = true)\n",
      " |-- bonus: long (nullable = true)\n",
      "\n"
     ]
    }
   ],
   "source": [
    "# Create DataFrame2\n",
    "simpleData2 = [(\"James\",\"Sales\",\"NY\",90000,34,10000), \\\n",
    "    (\"Maria\",\"Finance\",\"CA\",90000,24,23000), \\\n",
    "    (\"Jen\",\"Finance\",\"NY\",79000,53,15000), \\\n",
    "    (\"Jeff\",\"Marketing\",\"CA\",80000,25,18000), \\\n",
    "    (\"Kumar\",\"Marketing\",\"NY\",91000,50,21000) \\\n",
    "  ]\n",
    "columns2= [\"employee_name\",\"department\",\"state\",\"salary\",\"age\",\"bonus\"]\n",
    "\n",
    "df2 = spark.createDataFrame(data = simpleData2, schema = columns2)\n",
    "\n",
    "df2.printSchema()\n",
    "# df2.show(truncate=False)"
   ]
  },
  {
   "cell_type": "markdown",
   "id": "b1f69670",
   "metadata": {},
   "source": [
    "# Merge two or more DataFrames using union\n"
   ]
  },
  {
   "cell_type": "code",
   "execution_count": 4,
   "id": "24e0eceb",
   "metadata": {
    "ExecuteTime": {
     "end_time": "2023-12-01T08:01:22.593186Z",
     "start_time": "2023-12-01T08:01:22.298522Z"
    }
   },
   "outputs": [
    {
     "name": "stdout",
     "output_type": "stream",
     "text": [
      "root\n",
      " |-- employee_name: string (nullable = true)\n",
      " |-- department: string (nullable = true)\n",
      " |-- state: string (nullable = true)\n",
      " |-- salary: long (nullable = true)\n",
      " |-- age: long (nullable = true)\n",
      " |-- bonus: long (nullable = true)\n",
      "\n"
     ]
    }
   ],
   "source": [
    "# union() to merge two DF's\n",
    "union_Df=df.union(df2) \n",
    "union_Df.printSchema()"
   ]
  },
  {
   "cell_type": "markdown",
   "id": "74c7a828",
   "metadata": {},
   "source": [
    "# Merge DataFrames using unionAll\n",
    "\n",
    "DataFrame unionAll() method is deprecated since PySpark “2.0.0” version and recommends using the union() method."
   ]
  },
  {
   "cell_type": "code",
   "execution_count": 6,
   "id": "01da72f3",
   "metadata": {
    "ExecuteTime": {
     "end_time": "2023-12-01T08:03:51.130259Z",
     "start_time": "2023-12-01T08:03:51.098256Z"
    }
   },
   "outputs": [],
   "source": [
    "unionAll_Df= df.unionAll(df2)\n",
    "# unionAll_Df.show(truncate=False)"
   ]
  },
  {
   "cell_type": "markdown",
   "id": "12d9d6f3",
   "metadata": {},
   "source": [
    "# Merge without Duplicates"
   ]
  },
  {
   "cell_type": "code",
   "execution_count": null,
   "id": "32ddc867",
   "metadata": {},
   "outputs": [],
   "source": [
    "# Remove duplicates after union() using distinct()\n",
    "disDF=df.union(df2).distinct()\n",
    "disDF.show(truncate=False)"
   ]
  }
 ],
 "metadata": {
  "hide_input": false,
  "kernelspec": {
   "display_name": "Python 3 (ipykernel)",
   "language": "python",
   "name": "python3"
  },
  "language_info": {
   "codemirror_mode": {
    "name": "ipython",
    "version": 3
   },
   "file_extension": ".py",
   "mimetype": "text/x-python",
   "name": "python",
   "nbconvert_exporter": "python",
   "pygments_lexer": "ipython3",
   "version": "3.9.7"
  }
 },
 "nbformat": 4,
 "nbformat_minor": 5
}

{
 "cells": [
  {
   "cell_type": "markdown",
   "id": "6b5c29e3",
   "metadata": {},
   "source": [
    "Recent versions of PySpark provide a way to use Pandas API hence, you can also use pyspark.pandas.DataFrame.apply()"
   ]
  },
  {
   "cell_type": "code",
   "execution_count": 2,
   "id": "0ea481e2",
   "metadata": {
    "ExecuteTime": {
     "end_time": "2023-12-01T12:25:33.168658Z",
     "start_time": "2023-12-01T12:25:33.018743Z"
    }
   },
   "outputs": [],
   "source": [
    "from pyspark.sql import SparkSession\n",
    "\n",
    "spark = SparkSession.builder.appName('SP').getOrCreate()\n",
    "columns = [\"Seqno\",\"Name\"]\n",
    "data = [(\"1\", \"john jones\"),\n",
    "    (\"2\", \"tracey smith\"),\n",
    "    (\"3\", \"amy sanders\")]\n",
    "\n",
    "df = spark.createDataFrame(data=data,schema=columns)\n",
    "\n",
    "# df.show(truncate=False)"
   ]
  },
  {
   "cell_type": "markdown",
   "id": "4f7ea3c1",
   "metadata": {},
   "source": [
    "# 1. PySpark apply Function using withColumn()\n"
   ]
  },
  {
   "cell_type": "code",
   "execution_count": 3,
   "id": "aaa1c406",
   "metadata": {
    "ExecuteTime": {
     "end_time": "2023-12-01T12:26:59.882323Z",
     "start_time": "2023-12-01T12:26:59.248166Z"
    }
   },
   "outputs": [
    {
     "name": "stdout",
     "output_type": "stream",
     "text": [
      "root\n",
      " |-- Seqno: string (nullable = true)\n",
      " |-- Name: string (nullable = true)\n",
      " |-- upper_name: string (nullable = true)\n",
      "\n"
     ]
    }
   ],
   "source": [
    "from pyspark.sql.functions import upper\n",
    "df.withColumn(\"upper_name\",upper(df.Name)).printSchema()"
   ]
  },
  {
   "cell_type": "markdown",
   "id": "7aa305f1",
   "metadata": {},
   "source": [
    "# 2. Apply Function using select()\n"
   ]
  },
  {
   "cell_type": "code",
   "execution_count": 4,
   "id": "6f329bef",
   "metadata": {
    "ExecuteTime": {
     "end_time": "2023-12-01T12:28:24.163368Z",
     "start_time": "2023-12-01T12:28:24.086412Z"
    }
   },
   "outputs": [
    {
     "name": "stdout",
     "output_type": "stream",
     "text": [
      "root\n",
      " |-- Seqno: string (nullable = true)\n",
      " |-- Name: string (nullable = true)\n",
      " |-- upper(Name): string (nullable = true)\n",
      "\n"
     ]
    }
   ],
   "source": [
    "df.select(\"Seqno\",\"Name\",upper(df.Name)).printSchema()"
   ]
  },
  {
   "cell_type": "code",
   "execution_count": 5,
   "id": "6d55b141",
   "metadata": {
    "ExecuteTime": {
     "end_time": "2023-12-01T12:34:20.325305Z",
     "start_time": "2023-12-01T12:34:18.850070Z"
    }
   },
   "outputs": [
    {
     "data": {
      "text/plain": [
       "DataFrame[Seqno: string, name: string, upper(name): string]"
      ]
     },
     "execution_count": 5,
     "metadata": {},
     "output_type": "execute_result"
    }
   ],
   "source": [
    "# Apply function using sql()\n",
    "df.createOrReplaceTempView(\"TAB\")\n",
    "spark.sql(\"select Seqno,name, upper(name) from TAB\")"
   ]
  },
  {
   "cell_type": "markdown",
   "id": "375d8c43",
   "metadata": {},
   "source": [
    "# 3. PySpark Pandas apply()\n",
    "\n",
    "PySpark DataFrame doesn’t contain the apply() function however, we can leverage Pandas DataFrame.apply() by running Pandas API over PySpark."
   ]
  },
  {
   "cell_type": "code",
   "execution_count": 8,
   "id": "f2670141",
   "metadata": {
    "ExecuteTime": {
     "end_time": "2023-12-01T12:38:34.199738Z",
     "start_time": "2023-12-01T12:38:34.067583Z"
    }
   },
   "outputs": [],
   "source": [
    "import  pyspark.pandas as ps \n",
    "import numpy as np \n",
    "\n",
    "technologies = ({\n",
    "    'Fee' :[20000,25000,30000,22000,np.NaN],\n",
    "    'Discount':[1000,2500,1500,1200,3000]\n",
    "               })\n",
    "# Create a DataFrame\n",
    "psdf = ps.DataFrame(technologies)\n",
    "#print(psdf)\n",
    "\n",
    "def add(data):\n",
    "    return data[0] + data[1]\n",
    "\n",
    "# addDF = psdf.apply(add,axis=1)\n",
    "#print(addDF)"
   ]
  }
 ],
 "metadata": {
  "hide_input": false,
  "kernelspec": {
   "display_name": "Python 3 (ipykernel)",
   "language": "python",
   "name": "python3"
  },
  "language_info": {
   "codemirror_mode": {
    "name": "ipython",
    "version": 3
   },
   "file_extension": ".py",
   "mimetype": "text/x-python",
   "name": "python",
   "nbconvert_exporter": "python",
   "pygments_lexer": "ipython3",
   "version": "3.9.7"
  }
 },
 "nbformat": 4,
 "nbformat_minor": 5
}

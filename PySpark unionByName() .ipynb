{
 "cells": [
  {
   "cell_type": "markdown",
   "id": "af35a95c",
   "metadata": {},
   "source": [
    "# PySpark `unionByName()` - \n",
    "    by Aishwarya Raut"
   ]
  },
  {
   "cell_type": "markdown",
   "id": "1504f2e8",
   "metadata": {},
   "source": [
    "The `pyspark.sql.DataFrame.unionByName()` to merge/union two DataFrames with column names. In PySpark you can easily achieve this using `unionByName()` transformation, this function also takes param allowMissingColumns with the value True if you have a different number of columns on two DataFrames.\n",
    "\n"
   ]
  },
  {
   "cell_type": "markdown",
   "id": "6f286b5c",
   "metadata": {},
   "source": [
    "# 1. Syntax of unionByName()"
   ]
  },
  {
   "cell_type": "code",
   "execution_count": null,
   "id": "f3413366",
   "metadata": {},
   "outputs": [],
   "source": [
    "# Syntax\n",
    "unionByName(df,allowMissingColumns=True)"
   ]
  },
  {
   "cell_type": "markdown",
   "id": "3e1d061d",
   "metadata": {},
   "source": [
    "# 2. PySpark unionByName() Usage"
   ]
  },
  {
   "cell_type": "code",
   "execution_count": 1,
   "id": "04657f34",
   "metadata": {
    "ExecuteTime": {
     "end_time": "2023-12-01T09:03:37.707183Z",
     "start_time": "2023-12-01T09:02:01.223202Z"
    }
   },
   "outputs": [
    {
     "name": "stdout",
     "output_type": "stream",
     "text": [
      "root\n",
      " |-- name: string (nullable = true)\n",
      " |-- id: long (nullable = true)\n",
      "\n",
      "root\n",
      " |-- id: long (nullable = true)\n",
      " |-- name: string (nullable = true)\n",
      "\n"
     ]
    }
   ],
   "source": [
    "from pyspark.sql import SparkSession\n",
    "spark = SparkSession.builder.appName('SP').getOrCreate()\n",
    "\n",
    "# Create DataFrame df1 with columns name, and id\n",
    "data = [(\"James\",34), (\"Michael\",56), \\\n",
    "        (\"Robert\",30), (\"Maria\",24) ]\n",
    "\n",
    "df1 = spark.createDataFrame(data = data, schema=[\"name\",\"id\"])\n",
    "df1.printSchema()\n",
    "\n",
    "# Create DataFrame df2 with columns name and id\n",
    "data2=[(34,\"James\"),(45,\"Maria\"), \\\n",
    "       (45,\"Jen\"),(34,\"Jeff\")]\n",
    "\n",
    "df2 = spark.createDataFrame(data = data2, schema = [\"id\",\"name\"])\n",
    "df2.printSchema()\n"
   ]
  },
  {
   "cell_type": "code",
   "execution_count": 2,
   "id": "da033d38",
   "metadata": {
    "ExecuteTime": {
     "end_time": "2023-12-01T09:03:38.133179Z",
     "start_time": "2023-12-01T09:03:37.722169Z"
    }
   },
   "outputs": [
    {
     "name": "stdout",
     "output_type": "stream",
     "text": [
      "root\n",
      " |-- name: string (nullable = true)\n",
      " |-- id: long (nullable = true)\n",
      "\n"
     ]
    }
   ],
   "source": [
    "# UnionByName() \n",
    "df3=df1.unionByName(df2)\n",
    "df3.printSchema()"
   ]
  },
  {
   "cell_type": "markdown",
   "id": "ff6d5560",
   "metadata": {},
   "source": [
    "# 3. Use unionByName() with Different Number of Columns"
   ]
  },
  {
   "cell_type": "code",
   "execution_count": 3,
   "id": "b696e158",
   "metadata": {
    "ExecuteTime": {
     "end_time": "2023-12-01T09:05:24.246221Z",
     "start_time": "2023-12-01T09:05:24.022349Z"
    }
   },
   "outputs": [],
   "source": [
    "# Create DataFrames with different column names\n",
    "df1 = spark.createDataFrame([[5, 2, 6]], [\"col0\", \"col1\", \"col2\"])\n",
    "df2 = spark.createDataFrame([[6, 7, 3]], [\"col1\", \"col2\", \"col3\"])\n"
   ]
  },
  {
   "cell_type": "code",
   "execution_count": 5,
   "id": "ea3d8ac8",
   "metadata": {
    "ExecuteTime": {
     "end_time": "2023-12-01T09:06:28.362483Z",
     "start_time": "2023-12-01T09:06:28.303515Z"
    }
   },
   "outputs": [
    {
     "name": "stdout",
     "output_type": "stream",
     "text": [
      "root\n",
      " |-- col0: long (nullable = true)\n",
      " |-- col1: long (nullable = true)\n",
      " |-- col2: long (nullable = true)\n",
      " |-- col3: long (nullable = true)\n",
      "\n"
     ]
    }
   ],
   "source": [
    "# Using allowMissingColumns\n",
    "df3=df1.unionByName(df2,allowMissingColumns=True)\n",
    "df3.printSchema()"
   ]
  }
 ],
 "metadata": {
  "hide_input": false,
  "kernelspec": {
   "display_name": "Python 3 (ipykernel)",
   "language": "python",
   "name": "python3"
  },
  "language_info": {
   "codemirror_mode": {
    "name": "ipython",
    "version": 3
   },
   "file_extension": ".py",
   "mimetype": "text/x-python",
   "name": "python",
   "nbconvert_exporter": "python",
   "pygments_lexer": "ipython3",
   "version": "3.9.7"
  }
 },
 "nbformat": 4,
 "nbformat_minor": 5
}
